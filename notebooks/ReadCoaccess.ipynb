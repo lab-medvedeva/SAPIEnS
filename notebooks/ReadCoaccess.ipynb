{
 "cells": [
  {
   "cell_type": "code",
   "execution_count": 1,
   "metadata": {},
   "outputs": [],
   "source": [
    "import pandas as pd"
   ]
  },
  {
   "cell_type": "code",
   "execution_count": 2,
   "metadata": {},
   "outputs": [],
   "source": [
    "df = pd.read_csv('/home/akhtyamovpavel/Science/BioInfo/data/MouseDataset/master_cicero_conns.txt', sep='\\t')"
   ]
  },
  {
   "cell_type": "code",
   "execution_count": 3,
   "metadata": {},
   "outputs": [
    {
     "data": {
      "text/plain": [
       "<matplotlib.axes._subplots.AxesSubplot at 0x7f6986fa2890>"
      ]
     },
     "execution_count": 3,
     "metadata": {},
     "output_type": "execute_result"
    },
    {
     "data": {
      "image/png": "[encoded data removed]",
      "text/plain": [
       "<Figure size 432x288 with 1 Axes>"
      ]
     },
     "metadata": {
      "needs_background": "light"
     },
     "output_type": "display_data"
    }
   ],
   "source": [
    "df['coaccess'].hist()"
   ]
  },
  {
   "cell_type": "code",
   "execution_count": 4,
   "metadata": {},
   "outputs": [
    {
     "data": {
      "text/plain": [
       "43103"
      ]
     },
     "execution_count": 4,
     "metadata": {},
     "output_type": "execute_result"
    }
   ],
   "source": [
    "len(df[df.coaccess > 0.8].Peak1.unique())"
   ]
  },
  {
   "cell_type": "code",
   "execution_count": 5,
   "metadata": {},
   "outputs": [],
   "source": [
    "from scale.dataset import read_mtx"
   ]
  },
  {
   "cell_type": "code",
   "execution_count": 6,
   "metadata": {},
   "outputs": [],
   "source": [
    "count, feature, barcode = read_mtx('../data/MouseAtlasPreprocessed/mouse_atlas/')\n",
    "cell_types = labels[1].unique()\n",
    "cell_barcodes = {}\n",
    "for cell_type in cell_types:\n",
    "    cell_barcodes[cell_type] = list(labels[labels[1] == cell_type].index)\n",
    "    \n",
    "for cell_type, barcode in cell_barcodes.items():\n",
    "    cell_by_feature = np.asarray(count[barcode].sum(axis=0)).flatten()\n",
    "    output = pd.DataFrame(feature[np.argsort(cell_by_feature)[-20000:]])\n",
    "    output['chr'] = output[0].apply(lambda x: x.split('_')[0])\n",
    "    output['start'] = output[0].apply(lambda x: x.split('_')[1])\n",
    "    output['end'] = output[0].apply(lambda x: x.split('_')[2])\n",
    "    output.drop(0, axis=1).to_csv(\n",
    "        os.path.join('mouse_cicero_pipeline/raw_beds_top_20000', f'{cell_type.replace(\" \", \"_\").replace(\"/\", \"_\")}.bed'),\n",
    "        header=None,\n",
    "        index=None,\n",
    "        sep='\\t'\n",
    "    )"
   ]
  },
  {
   "cell_type": "code",
   "execution_count": 19,
   "metadata": {},
   "outputs": [],
   "source": []
  },
  {
   "cell_type": "code",
   "execution_count": 26,
   "metadata": {},
   "outputs": [],
   "source": []
  },
  {
   "cell_type": "code",
   "execution_count": 92,
   "metadata": {},
   "outputs": [],
   "source": [
    "import os"
   ]
  },
  {
   "cell_type": "code",
   "execution_count": 97,
   "metadata": {},
   "outputs": [],
   "source": []
  },
  {
   "cell_type": "code",
   "execution_count": 68,
   "metadata": {},
   "outputs": [],
   "source": [
    "import matplotlib.pyplot as plt"
   ]
  },
  {
   "cell_type": "code",
   "execution_count": 86,
   "metadata": {},
   "outputs": [
    {
     "data": {
      "text/plain": [
       "array([305588, 305594, 315221, ..., 351886, 294411, 310702])"
      ]
     },
     "execution_count": 86,
     "metadata": {},
     "output_type": "execute_result"
    }
   ],
   "source": []
  },
  {
   "cell_type": "code",
   "execution_count": 96,
   "metadata": {},
   "outputs": [],
   "source": [
    "!mkdir -p mouse_cicero_pipeline/raw_beds_top_20000"
   ]
  },
  {
   "cell_type": "code",
   "execution_count": 89,
   "metadata": {},
   "outputs": [],
   "source": []
  },
  {
   "cell_type": "code",
   "execution_count": 91,
   "metadata": {
    "collapsed": true,
    "jupyter": {
     "outputs_hidden": true
    }
   },
   "outputs": [
    {
     "data": {
      "text/html": [
       "<div>\n",
       "<style scoped>\n",
       "    .dataframe tbody tr th:only-of-type {\n",
       "        vertical-align: middle;\n",
       "    }\n",
       "\n",
       "    .dataframe tbody tr th {\n",
       "        vertical-align: top;\n",
       "    }\n",
       "\n",
       "    .dataframe thead th {\n",
       "        text-align: right;\n",
       "    }\n",
       "</style>\n",
       "<table border=\"1\" class=\"dataframe\">\n",
       "  <thead>\n",
       "    <tr style=\"text-align: right;\">\n",
       "      <th></th>\n",
       "      <th>chr</th>\n",
       "      <th>start</th>\n",
       "      <th>end</th>\n",
       "    </tr>\n",
       "  </thead>\n",
       "  <tbody>\n",
       "    <tr>\n",
       "      <th>0</th>\n",
       "      <td>chr1</td>\n",
       "      <td>3002478</td>\n",
       "      <td>3002968</td>\n",
       "    </tr>\n",
       "    <tr>\n",
       "      <th>1</th>\n",
       "      <td>chr1</td>\n",
       "      <td>3084739</td>\n",
       "      <td>3085712</td>\n",
       "    </tr>\n",
       "    <tr>\n",
       "      <th>2</th>\n",
       "      <td>chr1</td>\n",
       "      <td>3103576</td>\n",
       "      <td>3104022</td>\n",
       "    </tr>\n",
       "    <tr>\n",
       "      <th>3</th>\n",
       "      <td>chr1</td>\n",
       "      <td>3106871</td>\n",
       "      <td>3107210</td>\n",
       "    </tr>\n",
       "    <tr>\n",
       "      <th>4</th>\n",
       "      <td>chr1</td>\n",
       "      <td>3108932</td>\n",
       "      <td>3109158</td>\n",
       "    </tr>\n",
       "    <tr>\n",
       "      <th>...</th>\n",
       "      <td>...</td>\n",
       "      <td>...</td>\n",
       "      <td>...</td>\n",
       "    </tr>\n",
       "    <tr>\n",
       "      <th>358637</th>\n",
       "      <td>chrY</td>\n",
       "      <td>609312</td>\n",
       "      <td>609797</td>\n",
       "    </tr>\n",
       "    <tr>\n",
       "      <th>358638</th>\n",
       "      <td>chrY</td>\n",
       "      <td>621772</td>\n",
       "      <td>623366</td>\n",
       "    </tr>\n",
       "    <tr>\n",
       "      <th>358639</th>\n",
       "      <td>chrY</td>\n",
       "      <td>629871</td>\n",
       "      <td>630911</td>\n",
       "    </tr>\n",
       "    <tr>\n",
       "      <th>358640</th>\n",
       "      <td>chrY</td>\n",
       "      <td>631222</td>\n",
       "      <td>631480</td>\n",
       "    </tr>\n",
       "    <tr>\n",
       "      <th>358641</th>\n",
       "      <td>chrY</td>\n",
       "      <td>795887</td>\n",
       "      <td>796426</td>\n",
       "    </tr>\n",
       "  </tbody>\n",
       "</table>\n",
       "<p>358642 rows × 3 columns</p>\n",
       "</div>"
      ],
      "text/plain": [
       "         chr    start      end\n",
       "0       chr1  3002478  3002968\n",
       "1       chr1  3084739  3085712\n",
       "2       chr1  3103576  3104022\n",
       "3       chr1  3106871  3107210\n",
       "4       chr1  3108932  3109158\n",
       "...      ...      ...      ...\n",
       "358637  chrY   609312   609797\n",
       "358638  chrY   621772   623366\n",
       "358639  chrY   629871   630911\n",
       "358640  chrY   631222   631480\n",
       "358641  chrY   795887   796426\n",
       "\n",
       "[358642 rows x 3 columns]"
      ]
     },
     "execution_count": 91,
     "metadata": {},
     "output_type": "execute_result"
    }
   ],
   "source": [
    "output.drop(0, axis=1).to_csv(f'{cell_type.replace(\" \", \"_\").replace(\"/\", \"_\")}.bed', header=None, index=None, sep='\\t')"
   ]
  },
  {
   "cell_type": "code",
   "execution_count": 59,
   "metadata": {},
   "outputs": [
    {
     "ename": "KeyboardInterrupt",
     "evalue": "",
     "output_type": "error",
     "traceback": [
      "\u001b[0;31m---------------------------------------------------------------------------\u001b[0m",
      "\u001b[0;31mKeyboardInterrupt\u001b[0m                         Traceback (most recent call last)",
      "\u001b[0;32m<ipython-input-59-a3165e91349c>\u001b[0m in \u001b[0;36m<module>\u001b[0;34m\u001b[0m\n\u001b[0;32m----> 1\u001b[0;31m \u001b[0mplt\u001b[0m\u001b[0;34m.\u001b[0m\u001b[0mhist\u001b[0m\u001b[0;34m(\u001b[0m\u001b[0mcell_by_feature\u001b[0m\u001b[0;34m)\u001b[0m\u001b[0;34m\u001b[0m\u001b[0;34m\u001b[0m\u001b[0m\n\u001b[0m",
      "\u001b[0;32m~/PythonEnvironments/BioInfoPython37/lib/python3.7/site-packages/matplotlib-3.2.1-py3.7-linux-x86_64.egg/matplotlib/pyplot.py\u001b[0m in \u001b[0;36mhist\u001b[0;34m(x, bins, range, density, weights, cumulative, bottom, histtype, align, orientation, rwidth, log, color, label, stacked, data, **kwargs)\u001b[0m\n\u001b[1;32m   2608\u001b[0m         \u001b[0malign\u001b[0m\u001b[0;34m=\u001b[0m\u001b[0malign\u001b[0m\u001b[0;34m,\u001b[0m \u001b[0morientation\u001b[0m\u001b[0;34m=\u001b[0m\u001b[0morientation\u001b[0m\u001b[0;34m,\u001b[0m \u001b[0mrwidth\u001b[0m\u001b[0;34m=\u001b[0m\u001b[0mrwidth\u001b[0m\u001b[0;34m,\u001b[0m \u001b[0mlog\u001b[0m\u001b[0;34m=\u001b[0m\u001b[0mlog\u001b[0m\u001b[0;34m,\u001b[0m\u001b[0;34m\u001b[0m\u001b[0;34m\u001b[0m\u001b[0m\n\u001b[1;32m   2609\u001b[0m         color=color, label=label, stacked=stacked, **({\"data\": data}\n\u001b[0;32m-> 2610\u001b[0;31m         if data is not None else {}), **kwargs)\n\u001b[0m\u001b[1;32m   2611\u001b[0m \u001b[0;34m\u001b[0m\u001b[0m\n\u001b[1;32m   2612\u001b[0m \u001b[0;34m\u001b[0m\u001b[0m\n",
      "\u001b[0;32m~/PythonEnvironments/BioInfoPython37/lib/python3.7/site-packages/matplotlib-3.2.1-py3.7-linux-x86_64.egg/matplotlib/__init__.py\u001b[0m in \u001b[0;36minner\u001b[0;34m(ax, data, *args, **kwargs)\u001b[0m\n\u001b[1;32m   1563\u001b[0m     \u001b[0;32mdef\u001b[0m \u001b[0minner\u001b[0m\u001b[0;34m(\u001b[0m\u001b[0max\u001b[0m\u001b[0;34m,\u001b[0m \u001b[0;34m*\u001b[0m\u001b[0margs\u001b[0m\u001b[0;34m,\u001b[0m \u001b[0mdata\u001b[0m\u001b[0;34m=\u001b[0m\u001b[0;32mNone\u001b[0m\u001b[0;34m,\u001b[0m \u001b[0;34m**\u001b[0m\u001b[0mkwargs\u001b[0m\u001b[0;34m)\u001b[0m\u001b[0;34m:\u001b[0m\u001b[0;34m\u001b[0m\u001b[0;34m\u001b[0m\u001b[0m\n\u001b[1;32m   1564\u001b[0m         \u001b[0;32mif\u001b[0m \u001b[0mdata\u001b[0m \u001b[0;32mis\u001b[0m \u001b[0;32mNone\u001b[0m\u001b[0;34m:\u001b[0m\u001b[0;34m\u001b[0m\u001b[0;34m\u001b[0m\u001b[0m\n\u001b[0;32m-> 1565\u001b[0;31m             \u001b[0;32mreturn\u001b[0m \u001b[0mfunc\u001b[0m\u001b[0;34m(\u001b[0m\u001b[0max\u001b[0m\u001b[0;34m,\u001b[0m \u001b[0;34m*\u001b[0m\u001b[0mmap\u001b[0m\u001b[0;34m(\u001b[0m\u001b[0msanitize_sequence\u001b[0m\u001b[0;34m,\u001b[0m \u001b[0margs\u001b[0m\u001b[0;34m)\u001b[0m\u001b[0;34m,\u001b[0m \u001b[0;34m**\u001b[0m\u001b[0mkwargs\u001b[0m\u001b[0;34m)\u001b[0m\u001b[0;34m\u001b[0m\u001b[0;34m\u001b[0m\u001b[0m\n\u001b[0m\u001b[1;32m   1566\u001b[0m \u001b[0;34m\u001b[0m\u001b[0m\n\u001b[1;32m   1567\u001b[0m         \u001b[0mbound\u001b[0m \u001b[0;34m=\u001b[0m \u001b[0mnew_sig\u001b[0m\u001b[0;34m.\u001b[0m\u001b[0mbind\u001b[0m\u001b[0;34m(\u001b[0m\u001b[0max\u001b[0m\u001b[0;34m,\u001b[0m \u001b[0;34m*\u001b[0m\u001b[0margs\u001b[0m\u001b[0;34m,\u001b[0m \u001b[0;34m**\u001b[0m\u001b[0mkwargs\u001b[0m\u001b[0;34m)\u001b[0m\u001b[0;34m\u001b[0m\u001b[0;34m\u001b[0m\u001b[0m\n",
      "\u001b[0;32m~/PythonEnvironments/BioInfoPython37/lib/python3.7/site-packages/matplotlib-3.2.1-py3.7-linux-x86_64.egg/matplotlib/axes/_axes.py\u001b[0m in \u001b[0;36mhist\u001b[0;34m(self, x, bins, range, density, weights, cumulative, bottom, histtype, align, orientation, rwidth, log, color, label, stacked, **kwargs)\u001b[0m\n\u001b[1;32m   6617\u001b[0m                     \u001b[0;31m# python's min/max ignore nan,\u001b[0m\u001b[0;34m\u001b[0m\u001b[0;34m\u001b[0m\u001b[0;34m\u001b[0m\u001b[0m\n\u001b[1;32m   6618\u001b[0m                     \u001b[0;31m# np.minnan returns nan for all nan input\u001b[0m\u001b[0;34m\u001b[0m\u001b[0;34m\u001b[0m\u001b[0;34m\u001b[0m\u001b[0m\n\u001b[0;32m-> 6619\u001b[0;31m                     \u001b[0mxmin\u001b[0m \u001b[0;34m=\u001b[0m \u001b[0mmin\u001b[0m\u001b[0;34m(\u001b[0m\u001b[0mxmin\u001b[0m\u001b[0;34m,\u001b[0m \u001b[0mnp\u001b[0m\u001b[0;34m.\u001b[0m\u001b[0mnanmin\u001b[0m\u001b[0;34m(\u001b[0m\u001b[0mxi\u001b[0m\u001b[0;34m)\u001b[0m\u001b[0;34m)\u001b[0m\u001b[0;34m\u001b[0m\u001b[0;34m\u001b[0m\u001b[0m\n\u001b[0m\u001b[1;32m   6620\u001b[0m                     \u001b[0mxmax\u001b[0m \u001b[0;34m=\u001b[0m \u001b[0mmax\u001b[0m\u001b[0;34m(\u001b[0m\u001b[0mxmax\u001b[0m\u001b[0;34m,\u001b[0m \u001b[0mnp\u001b[0m\u001b[0;34m.\u001b[0m\u001b[0mnanmax\u001b[0m\u001b[0;34m(\u001b[0m\u001b[0mxi\u001b[0m\u001b[0;34m)\u001b[0m\u001b[0;34m)\u001b[0m\u001b[0;34m\u001b[0m\u001b[0;34m\u001b[0m\u001b[0m\n\u001b[1;32m   6621\u001b[0m             \u001b[0;31m# make sure we have seen at least one non-nan and finite\u001b[0m\u001b[0;34m\u001b[0m\u001b[0;34m\u001b[0m\u001b[0;34m\u001b[0m\u001b[0m\n",
      "\u001b[0;32m<__array_function__ internals>\u001b[0m in \u001b[0;36mnanmin\u001b[0;34m(*args, **kwargs)\u001b[0m\n",
      "\u001b[0;32m~/PythonEnvironments/BioInfoPython37/lib/python3.7/site-packages/numpy-1.19.0rc1-py3.7-linux-x86_64.egg/numpy/lib/nanfunctions.py\u001b[0m in \u001b[0;36mnanmin\u001b[0;34m(a, axis, out, keepdims)\u001b[0m\n\u001b[1;32m    324\u001b[0m         \u001b[0;31m# Slow, but safe for subclasses of ndarray\u001b[0m\u001b[0;34m\u001b[0m\u001b[0;34m\u001b[0m\u001b[0;34m\u001b[0m\u001b[0m\n\u001b[1;32m    325\u001b[0m         \u001b[0ma\u001b[0m\u001b[0;34m,\u001b[0m \u001b[0mmask\u001b[0m \u001b[0;34m=\u001b[0m \u001b[0m_replace_nan\u001b[0m\u001b[0;34m(\u001b[0m\u001b[0ma\u001b[0m\u001b[0;34m,\u001b[0m \u001b[0;34m+\u001b[0m\u001b[0mnp\u001b[0m\u001b[0;34m.\u001b[0m\u001b[0minf\u001b[0m\u001b[0;34m)\u001b[0m\u001b[0;34m\u001b[0m\u001b[0;34m\u001b[0m\u001b[0m\n\u001b[0;32m--> 326\u001b[0;31m         \u001b[0mres\u001b[0m \u001b[0;34m=\u001b[0m \u001b[0mnp\u001b[0m\u001b[0;34m.\u001b[0m\u001b[0mamin\u001b[0m\u001b[0;34m(\u001b[0m\u001b[0ma\u001b[0m\u001b[0;34m,\u001b[0m \u001b[0maxis\u001b[0m\u001b[0;34m=\u001b[0m\u001b[0maxis\u001b[0m\u001b[0;34m,\u001b[0m \u001b[0mout\u001b[0m\u001b[0;34m=\u001b[0m\u001b[0mout\u001b[0m\u001b[0;34m,\u001b[0m \u001b[0;34m**\u001b[0m\u001b[0mkwargs\u001b[0m\u001b[0;34m)\u001b[0m\u001b[0;34m\u001b[0m\u001b[0;34m\u001b[0m\u001b[0m\n\u001b[0m\u001b[1;32m    327\u001b[0m         \u001b[0;32mif\u001b[0m \u001b[0mmask\u001b[0m \u001b[0;32mis\u001b[0m \u001b[0;32mNone\u001b[0m\u001b[0;34m:\u001b[0m\u001b[0;34m\u001b[0m\u001b[0;34m\u001b[0m\u001b[0m\n\u001b[1;32m    328\u001b[0m             \u001b[0;32mreturn\u001b[0m \u001b[0mres\u001b[0m\u001b[0;34m\u001b[0m\u001b[0;34m\u001b[0m\u001b[0m\n",
      "\u001b[0;32m<__array_function__ internals>\u001b[0m in \u001b[0;36mamin\u001b[0;34m(*args, **kwargs)\u001b[0m\n",
      "\u001b[0;32m~/PythonEnvironments/BioInfoPython37/lib/python3.7/site-packages/numpy-1.19.0rc1-py3.7-linux-x86_64.egg/numpy/core/fromnumeric.py\u001b[0m in \u001b[0;36mamin\u001b[0;34m(a, axis, out, keepdims, initial, where)\u001b[0m\n\u001b[1;32m   2829\u001b[0m     \"\"\"\n\u001b[1;32m   2830\u001b[0m     return _wrapreduction(a, np.minimum, 'min', axis, None, out,\n\u001b[0;32m-> 2831\u001b[0;31m                           keepdims=keepdims, initial=initial, where=where)\n\u001b[0m\u001b[1;32m   2832\u001b[0m \u001b[0;34m\u001b[0m\u001b[0m\n\u001b[1;32m   2833\u001b[0m \u001b[0;34m\u001b[0m\u001b[0m\n",
      "\u001b[0;32m~/PythonEnvironments/BioInfoPython37/lib/python3.7/site-packages/numpy-1.19.0rc1-py3.7-linux-x86_64.egg/numpy/core/fromnumeric.py\u001b[0m in \u001b[0;36m_wrapreduction\u001b[0;34m(obj, ufunc, method, axis, dtype, out, **kwargs)\u001b[0m\n\u001b[1;32m     83\u001b[0m                 \u001b[0;32mreturn\u001b[0m \u001b[0mreduction\u001b[0m\u001b[0;34m(\u001b[0m\u001b[0maxis\u001b[0m\u001b[0;34m=\u001b[0m\u001b[0maxis\u001b[0m\u001b[0;34m,\u001b[0m \u001b[0mdtype\u001b[0m\u001b[0;34m=\u001b[0m\u001b[0mdtype\u001b[0m\u001b[0;34m,\u001b[0m \u001b[0mout\u001b[0m\u001b[0;34m=\u001b[0m\u001b[0mout\u001b[0m\u001b[0;34m,\u001b[0m \u001b[0;34m**\u001b[0m\u001b[0mpasskwargs\u001b[0m\u001b[0;34m)\u001b[0m\u001b[0;34m\u001b[0m\u001b[0;34m\u001b[0m\u001b[0m\n\u001b[1;32m     84\u001b[0m             \u001b[0;32melse\u001b[0m\u001b[0;34m:\u001b[0m\u001b[0;34m\u001b[0m\u001b[0;34m\u001b[0m\u001b[0m\n\u001b[0;32m---> 85\u001b[0;31m                 \u001b[0;32mreturn\u001b[0m \u001b[0mreduction\u001b[0m\u001b[0;34m(\u001b[0m\u001b[0maxis\u001b[0m\u001b[0;34m=\u001b[0m\u001b[0maxis\u001b[0m\u001b[0;34m,\u001b[0m \u001b[0mout\u001b[0m\u001b[0;34m=\u001b[0m\u001b[0mout\u001b[0m\u001b[0;34m,\u001b[0m \u001b[0;34m**\u001b[0m\u001b[0mpasskwargs\u001b[0m\u001b[0;34m)\u001b[0m\u001b[0;34m\u001b[0m\u001b[0;34m\u001b[0m\u001b[0m\n\u001b[0m\u001b[1;32m     86\u001b[0m \u001b[0;34m\u001b[0m\u001b[0m\n\u001b[1;32m     87\u001b[0m     \u001b[0;32mreturn\u001b[0m \u001b[0mufunc\u001b[0m\u001b[0;34m.\u001b[0m\u001b[0mreduce\u001b[0m\u001b[0;34m(\u001b[0m\u001b[0mobj\u001b[0m\u001b[0;34m,\u001b[0m \u001b[0maxis\u001b[0m\u001b[0;34m,\u001b[0m \u001b[0mdtype\u001b[0m\u001b[0;34m,\u001b[0m \u001b[0mout\u001b[0m\u001b[0;34m,\u001b[0m \u001b[0;34m**\u001b[0m\u001b[0mpasskwargs\u001b[0m\u001b[0;34m)\u001b[0m\u001b[0;34m\u001b[0m\u001b[0;34m\u001b[0m\u001b[0m\n",
      "\u001b[0;32m~/PythonEnvironments/BioInfoPython37/lib/python3.7/site-packages/numpy-1.19.0rc1-py3.7-linux-x86_64.egg/numpy/matrixlib/defmatrix.py\u001b[0m in \u001b[0;36mmin\u001b[0;34m(self, axis, out)\u001b[0m\n\u001b[1;32m    716\u001b[0m \u001b[0;34m\u001b[0m\u001b[0m\n\u001b[1;32m    717\u001b[0m         \"\"\"\n\u001b[0;32m--> 718\u001b[0;31m         \u001b[0;32mreturn\u001b[0m \u001b[0mN\u001b[0m\u001b[0;34m.\u001b[0m\u001b[0mndarray\u001b[0m\u001b[0;34m.\u001b[0m\u001b[0mmin\u001b[0m\u001b[0;34m(\u001b[0m\u001b[0mself\u001b[0m\u001b[0;34m,\u001b[0m \u001b[0maxis\u001b[0m\u001b[0;34m,\u001b[0m \u001b[0mout\u001b[0m\u001b[0;34m,\u001b[0m \u001b[0mkeepdims\u001b[0m\u001b[0;34m=\u001b[0m\u001b[0;32mTrue\u001b[0m\u001b[0;34m)\u001b[0m\u001b[0;34m.\u001b[0m\u001b[0m_collapse\u001b[0m\u001b[0;34m(\u001b[0m\u001b[0maxis\u001b[0m\u001b[0;34m)\u001b[0m\u001b[0;34m\u001b[0m\u001b[0;34m\u001b[0m\u001b[0m\n\u001b[0m\u001b[1;32m    719\u001b[0m \u001b[0;34m\u001b[0m\u001b[0m\n\u001b[1;32m    720\u001b[0m     \u001b[0;32mdef\u001b[0m \u001b[0margmin\u001b[0m\u001b[0;34m(\u001b[0m\u001b[0mself\u001b[0m\u001b[0;34m,\u001b[0m \u001b[0maxis\u001b[0m\u001b[0;34m=\u001b[0m\u001b[0;32mNone\u001b[0m\u001b[0;34m,\u001b[0m \u001b[0mout\u001b[0m\u001b[0;34m=\u001b[0m\u001b[0;32mNone\u001b[0m\u001b[0;34m)\u001b[0m\u001b[0;34m:\u001b[0m\u001b[0;34m\u001b[0m\u001b[0;34m\u001b[0m\u001b[0m\n",
      "\u001b[0;32m~/PythonEnvironments/BioInfoPython37/lib/python3.7/site-packages/numpy-1.19.0rc1-py3.7-linux-x86_64.egg/numpy/core/_methods.py\u001b[0m in \u001b[0;36m_amin\u001b[0;34m(a, axis, out, keepdims, initial, where)\u001b[0m\n\u001b[1;32m     41\u001b[0m def _amin(a, axis=None, out=None, keepdims=False,\n\u001b[1;32m     42\u001b[0m           initial=_NoValue, where=True):\n\u001b[0;32m---> 43\u001b[0;31m     \u001b[0;32mreturn\u001b[0m \u001b[0mumr_minimum\u001b[0m\u001b[0;34m(\u001b[0m\u001b[0ma\u001b[0m\u001b[0;34m,\u001b[0m \u001b[0maxis\u001b[0m\u001b[0;34m,\u001b[0m \u001b[0;32mNone\u001b[0m\u001b[0;34m,\u001b[0m \u001b[0mout\u001b[0m\u001b[0;34m,\u001b[0m \u001b[0mkeepdims\u001b[0m\u001b[0;34m,\u001b[0m \u001b[0minitial\u001b[0m\u001b[0;34m,\u001b[0m \u001b[0mwhere\u001b[0m\u001b[0;34m)\u001b[0m\u001b[0;34m\u001b[0m\u001b[0;34m\u001b[0m\u001b[0m\n\u001b[0m\u001b[1;32m     44\u001b[0m \u001b[0;34m\u001b[0m\u001b[0m\n\u001b[1;32m     45\u001b[0m def _sum(a, axis=None, dtype=None, out=None, keepdims=False,\n",
      "\u001b[0;32m~/PythonEnvironments/BioInfoPython37/lib/python3.7/site-packages/numpy-1.19.0rc1-py3.7-linux-x86_64.egg/numpy/matrixlib/defmatrix.py\u001b[0m in \u001b[0;36m__array_finalize__\u001b[0;34m(self, obj)\u001b[0m\n\u001b[1;32m    165\u001b[0m         \u001b[0;32mreturn\u001b[0m \u001b[0mret\u001b[0m\u001b[0;34m\u001b[0m\u001b[0;34m\u001b[0m\u001b[0m\n\u001b[1;32m    166\u001b[0m \u001b[0;34m\u001b[0m\u001b[0m\n\u001b[0;32m--> 167\u001b[0;31m     \u001b[0;32mdef\u001b[0m \u001b[0m__array_finalize__\u001b[0m\u001b[0;34m(\u001b[0m\u001b[0mself\u001b[0m\u001b[0;34m,\u001b[0m \u001b[0mobj\u001b[0m\u001b[0;34m)\u001b[0m\u001b[0;34m:\u001b[0m\u001b[0;34m\u001b[0m\u001b[0;34m\u001b[0m\u001b[0m\n\u001b[0m\u001b[1;32m    168\u001b[0m         \u001b[0mself\u001b[0m\u001b[0;34m.\u001b[0m\u001b[0m_getitem\u001b[0m \u001b[0;34m=\u001b[0m \u001b[0;32mFalse\u001b[0m\u001b[0;34m\u001b[0m\u001b[0;34m\u001b[0m\u001b[0m\n\u001b[1;32m    169\u001b[0m         \u001b[0;32mif\u001b[0m \u001b[0;34m(\u001b[0m\u001b[0misinstance\u001b[0m\u001b[0;34m(\u001b[0m\u001b[0mobj\u001b[0m\u001b[0;34m,\u001b[0m \u001b[0mmatrix\u001b[0m\u001b[0;34m)\u001b[0m \u001b[0;32mand\u001b[0m \u001b[0mobj\u001b[0m\u001b[0;34m.\u001b[0m\u001b[0m_getitem\u001b[0m\u001b[0;34m)\u001b[0m\u001b[0;34m:\u001b[0m \u001b[0;32mreturn\u001b[0m\u001b[0;34m\u001b[0m\u001b[0;34m\u001b[0m\u001b[0m\n",
      "\u001b[0;31mKeyboardInterrupt\u001b[0m: "
     ]
    },
    {
     "data": {
      "image/png": "[encoded data removed]",
      "text/plain": [
       "<Figure size 432x288 with 1 Axes>"
      ]
     },
     "metadata": {
      "needs_background": "light"
     },
     "output_type": "display_data"
    }
   ],
   "source": [
    "plt.hist(cell_by_feature)"
   ]
  },
  {
   "cell_type": "code",
   "execution_count": 31,
   "metadata": {},
   "outputs": [
    {
     "data": {
      "text/plain": [
       "1"
      ]
     },
     "execution_count": 31,
     "metadata": {},
     "output_type": "execute_result"
    }
   ],
   "source": [
    "import numpy as np\n",
    "np.diff(cell_barcodes['Hematopoietic progenitors']).max()"
   ]
  },
  {
   "cell_type": "code",
   "execution_count": 22,
   "metadata": {},
   "outputs": [],
   "source": [
    "labels = pd.read_csv('../data/MouseAtlasPreprocessed/mouse_atlas/labels.txt', sep='\\t', header=None)"
   ]
  },
  {
   "cell_type": "code",
   "execution_count": 23,
   "metadata": {},
   "outputs": [
    {
     "data": {
      "text/html": [
       "<div>\n",
       "<style scoped>\n",
       "    .dataframe tbody tr th:only-of-type {\n",
       "        vertical-align: middle;\n",
       "    }\n",
       "\n",
       "    .dataframe tbody tr th {\n",
       "        vertical-align: top;\n",
       "    }\n",
       "\n",
       "    .dataframe thead th {\n",
       "        text-align: right;\n",
       "    }\n",
       "</style>\n",
       "<table border=\"1\" class=\"dataframe\">\n",
       "  <thead>\n",
       "    <tr style=\"text-align: right;\">\n",
       "      <th></th>\n",
       "      <th>0</th>\n",
       "      <th>1</th>\n",
       "    </tr>\n",
       "  </thead>\n",
       "  <tbody>\n",
       "    <tr>\n",
       "      <th>0</th>\n",
       "      <td>AGCGATAGAACGAATTCGCCTCCGACGGCAGGACGT</td>\n",
       "      <td>Hematopoietic progenitors</td>\n",
       "    </tr>\n",
       "    <tr>\n",
       "      <th>1</th>\n",
       "      <td>AGCGATAGAACGAATTCGTTGGTAGTCGATAGAGGC</td>\n",
       "      <td>Hematopoietic progenitors</td>\n",
       "    </tr>\n",
       "    <tr>\n",
       "      <th>2</th>\n",
       "      <td>AGCGATAGAACGCGCAGAAAGCTAGGTTAGGCGAAG</td>\n",
       "      <td>Hematopoietic progenitors</td>\n",
       "    </tr>\n",
       "    <tr>\n",
       "      <th>3</th>\n",
       "      <td>AGCGATAGAACGCGCAGAAAGCTAGGTTGTACTGAC</td>\n",
       "      <td>Hematopoietic progenitors</td>\n",
       "    </tr>\n",
       "    <tr>\n",
       "      <th>4</th>\n",
       "      <td>AGCGATAGAACGCGCAGAAGCTTATAGGATAGAGGC</td>\n",
       "      <td>Hematopoietic progenitors</td>\n",
       "    </tr>\n",
       "    <tr>\n",
       "      <th>...</th>\n",
       "      <td>...</td>\n",
       "      <td>...</td>\n",
       "    </tr>\n",
       "    <tr>\n",
       "      <th>81168</th>\n",
       "      <td>TCCGGAGACTCAATTAGTCCATCGTTCCTATAGCCT</td>\n",
       "      <td>Endothelial II cells</td>\n",
       "    </tr>\n",
       "    <tr>\n",
       "      <th>81169</th>\n",
       "      <td>TAATGCGCTATAATAGTTGATGCAGTTCATAGAGGC</td>\n",
       "      <td>Endothelial II cells</td>\n",
       "    </tr>\n",
       "    <tr>\n",
       "      <th>81170</th>\n",
       "      <td>ATTACTCGTCAATCTCCTGTCTGCAATCTAATCTTA</td>\n",
       "      <td>Endothelial II cells</td>\n",
       "    </tr>\n",
       "    <tr>\n",
       "      <th>81171</th>\n",
       "      <td>ATTACTCGAGTTCTCATGAGGCGAGAGCCAGGACGT</td>\n",
       "      <td>Endothelial II cells</td>\n",
       "    </tr>\n",
       "    <tr>\n",
       "      <th>81172</th>\n",
       "      <td>ATTCAGAAATTCTTAGCTCAATGAGTCCTATAGCCT</td>\n",
       "      <td>Endothelial II cells</td>\n",
       "    </tr>\n",
       "  </tbody>\n",
       "</table>\n",
       "<p>81173 rows × 2 columns</p>\n",
       "</div>"
      ],
      "text/plain": [
       "                                          0                          1\n",
       "0      AGCGATAGAACGAATTCGCCTCCGACGGCAGGACGT  Hematopoietic progenitors\n",
       "1      AGCGATAGAACGAATTCGTTGGTAGTCGATAGAGGC  Hematopoietic progenitors\n",
       "2      AGCGATAGAACGCGCAGAAAGCTAGGTTAGGCGAAG  Hematopoietic progenitors\n",
       "3      AGCGATAGAACGCGCAGAAAGCTAGGTTGTACTGAC  Hematopoietic progenitors\n",
       "4      AGCGATAGAACGCGCAGAAGCTTATAGGATAGAGGC  Hematopoietic progenitors\n",
       "...                                     ...                        ...\n",
       "81168  TCCGGAGACTCAATTAGTCCATCGTTCCTATAGCCT       Endothelial II cells\n",
       "81169  TAATGCGCTATAATAGTTGATGCAGTTCATAGAGGC       Endothelial II cells\n",
       "81170  ATTACTCGTCAATCTCCTGTCTGCAATCTAATCTTA       Endothelial II cells\n",
       "81171  ATTACTCGAGTTCTCATGAGGCGAGAGCCAGGACGT       Endothelial II cells\n",
       "81172  ATTCAGAAATTCTTAGCTCAATGAGTCCTATAGCCT       Endothelial II cells\n",
       "\n",
       "[81173 rows x 2 columns]"
      ]
     },
     "execution_count": 23,
     "metadata": {},
     "output_type": "execute_result"
    }
   ],
   "source": [
    "labels"
   ]
  },
  {
   "cell_type": "code",
   "execution_count": 16,
   "metadata": {},
   "outputs": [
    {
     "data": {
      "text/plain": [
       "0.0"
      ]
     },
     "execution_count": 16,
     "metadata": {},
     "output_type": "execute_result"
    }
   ],
   "source": [
    "count[0, 1]"
   ]
  },
  {
   "cell_type": "code",
   "execution_count": 8,
   "metadata": {},
   "outputs": [
    {
     "data": {
      "text/plain": [
       "(81173,)"
      ]
     },
     "execution_count": 8,
     "metadata": {},
     "output_type": "execute_result"
    }
   ],
   "source": [
    "barcode.shape"
   ]
  },
  {
   "cell_type": "code",
   "execution_count": 9,
   "metadata": {},
   "outputs": [],
   "source": [
    "import numpy as np"
   ]
  },
  {
   "cell_type": "code",
   "execution_count": 10,
   "metadata": {},
   "outputs": [],
   "source": [
    "set_filtered = set(df[df.coaccess > 0.8].Peak1.unique())"
   ]
  },
  {
   "cell_type": "code",
   "execution_count": 11,
   "metadata": {},
   "outputs": [],
   "source": [
    "indices = []\n",
    "filtered_feature = []\n",
    "for index, element in enumerate(feature):\n",
    "    if element in set_filtered:\n",
    "        indices.append(index)\n",
    "        filtered_feature.append(element)"
   ]
  },
  {
   "cell_type": "code",
   "execution_count": 12,
   "metadata": {},
   "outputs": [
    {
     "data": {
      "text/plain": [
       "43103"
      ]
     },
     "execution_count": 12,
     "metadata": {},
     "output_type": "execute_result"
    }
   ],
   "source": [
    "len(filtered_feature)"
   ]
  },
  {
   "cell_type": "code",
   "execution_count": 13,
   "metadata": {},
   "outputs": [],
   "source": [
    "filtered_count = count[:, indices]"
   ]
  },
  {
   "cell_type": "code",
   "execution_count": 23,
   "metadata": {},
   "outputs": [
    {
     "data": {
      "text/plain": [
       "<43103x81173 sparse matrix of type '<class 'numpy.float32'>'\n",
       "\twith 82374471 stored elements in Compressed Sparse Column format>"
      ]
     },
     "execution_count": 23,
     "metadata": {},
     "output_type": "execute_result"
    }
   ],
   "source": [
    "filtered_count.T"
   ]
  },
  {
   "cell_type": "code",
   "execution_count": 19,
   "metadata": {},
   "outputs": [
    {
     "data": {
      "text/plain": [
       "43103"
      ]
     },
     "execution_count": 19,
     "metadata": {},
     "output_type": "execute_result"
    }
   ],
   "source": [
    "len(filtered_feature)"
   ]
  },
  {
   "cell_type": "code",
   "execution_count": 20,
   "metadata": {},
   "outputs": [],
   "source": [
    "peaks_df = pd.DataFrame(filtered_feature)"
   ]
  },
  {
   "cell_type": "code",
   "execution_count": 21,
   "metadata": {},
   "outputs": [
    {
     "data": {
      "text/html": [
       "<div>\n",
       "<style scoped>\n",
       "    .dataframe tbody tr th:only-of-type {\n",
       "        vertical-align: middle;\n",
       "    }\n",
       "\n",
       "    .dataframe tbody tr th {\n",
       "        vertical-align: top;\n",
       "    }\n",
       "\n",
       "    .dataframe thead th {\n",
       "        text-align: right;\n",
       "    }\n",
       "</style>\n",
       "<table border=\"1\" class=\"dataframe\">\n",
       "  <thead>\n",
       "    <tr style=\"text-align: right;\">\n",
       "      <th></th>\n",
       "      <th>0</th>\n",
       "    </tr>\n",
       "  </thead>\n",
       "  <tbody>\n",
       "    <tr>\n",
       "      <th>0</th>\n",
       "      <td>chr1_3175009_3175727</td>\n",
       "    </tr>\n",
       "    <tr>\n",
       "      <th>1</th>\n",
       "      <td>chr1_3175797_3176314</td>\n",
       "    </tr>\n",
       "    <tr>\n",
       "      <th>2</th>\n",
       "      <td>chr1_3349783_3350404</td>\n",
       "    </tr>\n",
       "    <tr>\n",
       "      <th>3</th>\n",
       "      <td>chr1_3350784_3351508</td>\n",
       "    </tr>\n",
       "    <tr>\n",
       "      <th>4</th>\n",
       "      <td>chr1_3542557_3542899</td>\n",
       "    </tr>\n",
       "    <tr>\n",
       "      <th>...</th>\n",
       "      <td>...</td>\n",
       "    </tr>\n",
       "    <tr>\n",
       "      <th>43098</th>\n",
       "      <td>chrX_166418652_166420035</td>\n",
       "    </tr>\n",
       "    <tr>\n",
       "      <th>43099</th>\n",
       "      <td>chrY_451796_452329</td>\n",
       "    </tr>\n",
       "    <tr>\n",
       "      <th>43100</th>\n",
       "      <td>chrY_452646_452987</td>\n",
       "    </tr>\n",
       "    <tr>\n",
       "      <th>43101</th>\n",
       "      <td>chrY_590064_590392</td>\n",
       "    </tr>\n",
       "    <tr>\n",
       "      <th>43102</th>\n",
       "      <td>chrY_590469_590895</td>\n",
       "    </tr>\n",
       "  </tbody>\n",
       "</table>\n",
       "<p>43103 rows × 1 columns</p>\n",
       "</div>"
      ],
      "text/plain": [
       "                              0\n",
       "0          chr1_3175009_3175727\n",
       "1          chr1_3175797_3176314\n",
       "2          chr1_3349783_3350404\n",
       "3          chr1_3350784_3351508\n",
       "4          chr1_3542557_3542899\n",
       "...                         ...\n",
       "43098  chrX_166418652_166420035\n",
       "43099        chrY_451796_452329\n",
       "43100        chrY_452646_452987\n",
       "43101        chrY_590064_590392\n",
       "43102        chrY_590469_590895\n",
       "\n",
       "[43103 rows x 1 columns]"
      ]
     },
     "execution_count": 21,
     "metadata": {},
     "output_type": "execute_result"
    }
   ],
   "source": [
    "peaks_df"
   ]
  },
  {
   "cell_type": "code",
   "execution_count": 22,
   "metadata": {},
   "outputs": [],
   "source": [
    "peaks_df.to_csv('mouse_atlas_cicero/peaks.txt', index=None, columns=None)"
   ]
  },
  {
   "cell_type": "code",
   "execution_count": 11,
   "metadata": {},
   "outputs": [],
   "source": [
    "output_dataframe = pd.DataFrame(filtered_count.toarray(), index=barcode, columns=filtered_feature)"
   ]
  },
  {
   "cell_type": "code",
   "execution_count": 14,
   "metadata": {},
   "outputs": [],
   "source": [
    "from scipy.io import mmwrite"
   ]
  },
  {
   "cell_type": "code",
   "execution_count": 16,
   "metadata": {},
   "outputs": [],
   "source": [
    "mmwrite('mouse_atlas_cicero/count_matrix.mtx', filtered_count.T)"
   ]
  },
  {
   "cell_type": "code",
   "execution_count": 50,
   "metadata": {},
   "outputs": [
    {
     "data": {
      "text/html": [
       "<div>\n",
       "<style scoped>\n",
       "    .dataframe tbody tr th:only-of-type {\n",
       "        vertical-align: middle;\n",
       "    }\n",
       "\n",
       "    .dataframe tbody tr th {\n",
       "        vertical-align: top;\n",
       "    }\n",
       "\n",
       "    .dataframe thead th {\n",
       "        text-align: right;\n",
       "    }\n",
       "</style>\n",
       "<table border=\"1\" class=\"dataframe\">\n",
       "  <thead>\n",
       "    <tr style=\"text-align: right;\">\n",
       "      <th></th>\n",
       "      <th>chr1_3175009_3175727</th>\n",
       "      <th>chr1_3175797_3176314</th>\n",
       "      <th>chr1_3349783_3350404</th>\n",
       "      <th>chr1_3350784_3351508</th>\n",
       "      <th>chr1_3542557_3542899</th>\n",
       "      <th>chr1_3543104_3543794</th>\n",
       "      <th>chr1_3575901_3576436</th>\n",
       "      <th>chr1_3576535_3576855</th>\n",
       "      <th>chr1_3905789_3906055</th>\n",
       "      <th>chr1_3906310_3906587</th>\n",
       "      <th>...</th>\n",
       "      <th>chrX_166410541_166411550</th>\n",
       "      <th>chrX_166411693_166412078</th>\n",
       "      <th>chrX_166412859_166413381</th>\n",
       "      <th>chrX_166413546_166414204</th>\n",
       "      <th>chrX_166416270_166418640</th>\n",
       "      <th>chrX_166418652_166420035</th>\n",
       "      <th>chrY_451796_452329</th>\n",
       "      <th>chrY_452646_452987</th>\n",
       "      <th>chrY_590064_590392</th>\n",
       "      <th>chrY_590469_590895</th>\n",
       "    </tr>\n",
       "  </thead>\n",
       "  <tbody>\n",
       "    <tr>\n",
       "      <th>AGCGATAGAACGAATTCGCCTCCGACGGCAGGACGT</th>\n",
       "      <td>0.0</td>\n",
       "      <td>0.0</td>\n",
       "      <td>0.0</td>\n",
       "      <td>0.0</td>\n",
       "      <td>0.0</td>\n",
       "      <td>0.0</td>\n",
       "      <td>0.0</td>\n",
       "      <td>0.0</td>\n",
       "      <td>0.0</td>\n",
       "      <td>0.0</td>\n",
       "      <td>...</td>\n",
       "      <td>0.0</td>\n",
       "      <td>0.0</td>\n",
       "      <td>0.0</td>\n",
       "      <td>0.0</td>\n",
       "      <td>0.0</td>\n",
       "      <td>0.0</td>\n",
       "      <td>0.0</td>\n",
       "      <td>0.0</td>\n",
       "      <td>0.0</td>\n",
       "      <td>0.0</td>\n",
       "    </tr>\n",
       "    <tr>\n",
       "      <th>AGCGATAGAACGAATTCGTTGGTAGTCGATAGAGGC</th>\n",
       "      <td>0.0</td>\n",
       "      <td>0.0</td>\n",
       "      <td>0.0</td>\n",
       "      <td>0.0</td>\n",
       "      <td>0.0</td>\n",
       "      <td>0.0</td>\n",
       "      <td>0.0</td>\n",
       "      <td>0.0</td>\n",
       "      <td>0.0</td>\n",
       "      <td>0.0</td>\n",
       "      <td>...</td>\n",
       "      <td>0.0</td>\n",
       "      <td>0.0</td>\n",
       "      <td>0.0</td>\n",
       "      <td>0.0</td>\n",
       "      <td>0.0</td>\n",
       "      <td>0.0</td>\n",
       "      <td>0.0</td>\n",
       "      <td>0.0</td>\n",
       "      <td>0.0</td>\n",
       "      <td>0.0</td>\n",
       "    </tr>\n",
       "    <tr>\n",
       "      <th>AGCGATAGAACGCGCAGAAAGCTAGGTTAGGCGAAG</th>\n",
       "      <td>0.0</td>\n",
       "      <td>0.0</td>\n",
       "      <td>0.0</td>\n",
       "      <td>0.0</td>\n",
       "      <td>0.0</td>\n",
       "      <td>0.0</td>\n",
       "      <td>0.0</td>\n",
       "      <td>0.0</td>\n",
       "      <td>0.0</td>\n",
       "      <td>0.0</td>\n",
       "      <td>...</td>\n",
       "      <td>0.0</td>\n",
       "      <td>0.0</td>\n",
       "      <td>0.0</td>\n",
       "      <td>0.0</td>\n",
       "      <td>0.0</td>\n",
       "      <td>0.0</td>\n",
       "      <td>0.0</td>\n",
       "      <td>0.0</td>\n",
       "      <td>0.0</td>\n",
       "      <td>0.0</td>\n",
       "    </tr>\n",
       "    <tr>\n",
       "      <th>AGCGATAGAACGCGCAGAAAGCTAGGTTGTACTGAC</th>\n",
       "      <td>0.0</td>\n",
       "      <td>0.0</td>\n",
       "      <td>0.0</td>\n",
       "      <td>0.0</td>\n",
       "      <td>0.0</td>\n",
       "      <td>0.0</td>\n",
       "      <td>0.0</td>\n",
       "      <td>0.0</td>\n",
       "      <td>0.0</td>\n",
       "      <td>0.0</td>\n",
       "      <td>...</td>\n",
       "      <td>0.0</td>\n",
       "      <td>0.0</td>\n",
       "      <td>0.0</td>\n",
       "      <td>0.0</td>\n",
       "      <td>0.0</td>\n",
       "      <td>0.0</td>\n",
       "      <td>0.0</td>\n",
       "      <td>0.0</td>\n",
       "      <td>0.0</td>\n",
       "      <td>0.0</td>\n",
       "    </tr>\n",
       "    <tr>\n",
       "      <th>AGCGATAGAACGCGCAGAAGCTTATAGGATAGAGGC</th>\n",
       "      <td>0.0</td>\n",
       "      <td>0.0</td>\n",
       "      <td>0.0</td>\n",
       "      <td>1.0</td>\n",
       "      <td>0.0</td>\n",
       "      <td>0.0</td>\n",
       "      <td>0.0</td>\n",
       "      <td>0.0</td>\n",
       "      <td>0.0</td>\n",
       "      <td>0.0</td>\n",
       "      <td>...</td>\n",
       "      <td>0.0</td>\n",
       "      <td>0.0</td>\n",
       "      <td>0.0</td>\n",
       "      <td>0.0</td>\n",
       "      <td>0.0</td>\n",
       "      <td>0.0</td>\n",
       "      <td>0.0</td>\n",
       "      <td>0.0</td>\n",
       "      <td>0.0</td>\n",
       "      <td>0.0</td>\n",
       "    </tr>\n",
       "    <tr>\n",
       "      <th>...</th>\n",
       "      <td>...</td>\n",
       "      <td>...</td>\n",
       "      <td>...</td>\n",
       "      <td>...</td>\n",
       "      <td>...</td>\n",
       "      <td>...</td>\n",
       "      <td>...</td>\n",
       "      <td>...</td>\n",
       "      <td>...</td>\n",
       "      <td>...</td>\n",
       "      <td>...</td>\n",
       "      <td>...</td>\n",
       "      <td>...</td>\n",
       "      <td>...</td>\n",
       "      <td>...</td>\n",
       "      <td>...</td>\n",
       "      <td>...</td>\n",
       "      <td>...</td>\n",
       "      <td>...</td>\n",
       "      <td>...</td>\n",
       "      <td>...</td>\n",
       "    </tr>\n",
       "    <tr>\n",
       "      <th>TCCGGAGACTCAATTAGTCCATCGTTCCTATAGCCT</th>\n",
       "      <td>0.0</td>\n",
       "      <td>0.0</td>\n",
       "      <td>0.0</td>\n",
       "      <td>0.0</td>\n",
       "      <td>0.0</td>\n",
       "      <td>0.0</td>\n",
       "      <td>0.0</td>\n",
       "      <td>0.0</td>\n",
       "      <td>0.0</td>\n",
       "      <td>0.0</td>\n",
       "      <td>...</td>\n",
       "      <td>0.0</td>\n",
       "      <td>0.0</td>\n",
       "      <td>0.0</td>\n",
       "      <td>0.0</td>\n",
       "      <td>0.0</td>\n",
       "      <td>0.0</td>\n",
       "      <td>0.0</td>\n",
       "      <td>0.0</td>\n",
       "      <td>0.0</td>\n",
       "      <td>0.0</td>\n",
       "    </tr>\n",
       "    <tr>\n",
       "      <th>TAATGCGCTATAATAGTTGATGCAGTTCATAGAGGC</th>\n",
       "      <td>0.0</td>\n",
       "      <td>0.0</td>\n",
       "      <td>0.0</td>\n",
       "      <td>0.0</td>\n",
       "      <td>0.0</td>\n",
       "      <td>0.0</td>\n",
       "      <td>0.0</td>\n",
       "      <td>0.0</td>\n",
       "      <td>0.0</td>\n",
       "      <td>0.0</td>\n",
       "      <td>...</td>\n",
       "      <td>0.0</td>\n",
       "      <td>0.0</td>\n",
       "      <td>0.0</td>\n",
       "      <td>0.0</td>\n",
       "      <td>0.0</td>\n",
       "      <td>0.0</td>\n",
       "      <td>0.0</td>\n",
       "      <td>0.0</td>\n",
       "      <td>0.0</td>\n",
       "      <td>0.0</td>\n",
       "    </tr>\n",
       "    <tr>\n",
       "      <th>ATTACTCGTCAATCTCCTGTCTGCAATCTAATCTTA</th>\n",
       "      <td>0.0</td>\n",
       "      <td>0.0</td>\n",
       "      <td>0.0</td>\n",
       "      <td>0.0</td>\n",
       "      <td>0.0</td>\n",
       "      <td>0.0</td>\n",
       "      <td>0.0</td>\n",
       "      <td>0.0</td>\n",
       "      <td>0.0</td>\n",
       "      <td>0.0</td>\n",
       "      <td>...</td>\n",
       "      <td>0.0</td>\n",
       "      <td>0.0</td>\n",
       "      <td>0.0</td>\n",
       "      <td>0.0</td>\n",
       "      <td>0.0</td>\n",
       "      <td>0.0</td>\n",
       "      <td>0.0</td>\n",
       "      <td>0.0</td>\n",
       "      <td>0.0</td>\n",
       "      <td>0.0</td>\n",
       "    </tr>\n",
       "    <tr>\n",
       "      <th>ATTACTCGAGTTCTCATGAGGCGAGAGCCAGGACGT</th>\n",
       "      <td>0.0</td>\n",
       "      <td>0.0</td>\n",
       "      <td>0.0</td>\n",
       "      <td>0.0</td>\n",
       "      <td>0.0</td>\n",
       "      <td>0.0</td>\n",
       "      <td>0.0</td>\n",
       "      <td>0.0</td>\n",
       "      <td>0.0</td>\n",
       "      <td>0.0</td>\n",
       "      <td>...</td>\n",
       "      <td>0.0</td>\n",
       "      <td>0.0</td>\n",
       "      <td>0.0</td>\n",
       "      <td>0.0</td>\n",
       "      <td>0.0</td>\n",
       "      <td>0.0</td>\n",
       "      <td>0.0</td>\n",
       "      <td>0.0</td>\n",
       "      <td>0.0</td>\n",
       "      <td>0.0</td>\n",
       "    </tr>\n",
       "    <tr>\n",
       "      <th>ATTCAGAAATTCTTAGCTCAATGAGTCCTATAGCCT</th>\n",
       "      <td>0.0</td>\n",
       "      <td>0.0</td>\n",
       "      <td>0.0</td>\n",
       "      <td>0.0</td>\n",
       "      <td>0.0</td>\n",
       "      <td>0.0</td>\n",
       "      <td>0.0</td>\n",
       "      <td>0.0</td>\n",
       "      <td>0.0</td>\n",
       "      <td>0.0</td>\n",
       "      <td>...</td>\n",
       "      <td>0.0</td>\n",
       "      <td>0.0</td>\n",
       "      <td>0.0</td>\n",
       "      <td>0.0</td>\n",
       "      <td>1.0</td>\n",
       "      <td>0.0</td>\n",
       "      <td>0.0</td>\n",
       "      <td>0.0</td>\n",
       "      <td>0.0</td>\n",
       "      <td>0.0</td>\n",
       "    </tr>\n",
       "  </tbody>\n",
       "</table>\n",
       "<p>81173 rows × 43103 columns</p>\n",
       "</div>"
      ],
      "text/plain": [
       "                                      chr1_3175009_3175727  \\\n",
       "AGCGATAGAACGAATTCGCCTCCGACGGCAGGACGT                   0.0   \n",
       "AGCGATAGAACGAATTCGTTGGTAGTCGATAGAGGC                   0.0   \n",
       "AGCGATAGAACGCGCAGAAAGCTAGGTTAGGCGAAG                   0.0   \n",
       "AGCGATAGAACGCGCAGAAAGCTAGGTTGTACTGAC                   0.0   \n",
       "AGCGATAGAACGCGCAGAAGCTTATAGGATAGAGGC                   0.0   \n",
       "...                                                    ...   \n",
       "TCCGGAGACTCAATTAGTCCATCGTTCCTATAGCCT                   0.0   \n",
       "TAATGCGCTATAATAGTTGATGCAGTTCATAGAGGC                   0.0   \n",
       "ATTACTCGTCAATCTCCTGTCTGCAATCTAATCTTA                   0.0   \n",
       "ATTACTCGAGTTCTCATGAGGCGAGAGCCAGGACGT                   0.0   \n",
       "ATTCAGAAATTCTTAGCTCAATGAGTCCTATAGCCT                   0.0   \n",
       "\n",
       "                                      chr1_3175797_3176314  \\\n",
       "AGCGATAGAACGAATTCGCCTCCGACGGCAGGACGT                   0.0   \n",
       "AGCGATAGAACGAATTCGTTGGTAGTCGATAGAGGC                   0.0   \n",
       "AGCGATAGAACGCGCAGAAAGCTAGGTTAGGCGAAG                   0.0   \n",
       "AGCGATAGAACGCGCAGAAAGCTAGGTTGTACTGAC                   0.0   \n",
       "AGCGATAGAACGCGCAGAAGCTTATAGGATAGAGGC                   0.0   \n",
       "...                                                    ...   \n",
       "TCCGGAGACTCAATTAGTCCATCGTTCCTATAGCCT                   0.0   \n",
       "TAATGCGCTATAATAGTTGATGCAGTTCATAGAGGC                   0.0   \n",
       "ATTACTCGTCAATCTCCTGTCTGCAATCTAATCTTA                   0.0   \n",
       "ATTACTCGAGTTCTCATGAGGCGAGAGCCAGGACGT                   0.0   \n",
       "ATTCAGAAATTCTTAGCTCAATGAGTCCTATAGCCT                   0.0   \n",
       "\n",
       "                                      chr1_3349783_3350404  \\\n",
       "AGCGATAGAACGAATTCGCCTCCGACGGCAGGACGT                   0.0   \n",
       "AGCGATAGAACGAATTCGTTGGTAGTCGATAGAGGC                   0.0   \n",
       "AGCGATAGAACGCGCAGAAAGCTAGGTTAGGCGAAG                   0.0   \n",
       "AGCGATAGAACGCGCAGAAAGCTAGGTTGTACTGAC                   0.0   \n",
       "AGCGATAGAACGCGCAGAAGCTTATAGGATAGAGGC                   0.0   \n",
       "...                                                    ...   \n",
       "TCCGGAGACTCAATTAGTCCATCGTTCCTATAGCCT                   0.0   \n",
       "TAATGCGCTATAATAGTTGATGCAGTTCATAGAGGC                   0.0   \n",
       "ATTACTCGTCAATCTCCTGTCTGCAATCTAATCTTA                   0.0   \n",
       "ATTACTCGAGTTCTCATGAGGCGAGAGCCAGGACGT                   0.0   \n",
       "ATTCAGAAATTCTTAGCTCAATGAGTCCTATAGCCT                   0.0   \n",
       "\n",
       "                                      chr1_3350784_3351508  \\\n",
       "AGCGATAGAACGAATTCGCCTCCGACGGCAGGACGT                   0.0   \n",
       "AGCGATAGAACGAATTCGTTGGTAGTCGATAGAGGC                   0.0   \n",
       "AGCGATAGAACGCGCAGAAAGCTAGGTTAGGCGAAG                   0.0   \n",
       "AGCGATAGAACGCGCAGAAAGCTAGGTTGTACTGAC                   0.0   \n",
       "AGCGATAGAACGCGCAGAAGCTTATAGGATAGAGGC                   1.0   \n",
       "...                                                    ...   \n",
       "TCCGGAGACTCAATTAGTCCATCGTTCCTATAGCCT                   0.0   \n",
       "TAATGCGCTATAATAGTTGATGCAGTTCATAGAGGC                   0.0   \n",
       "ATTACTCGTCAATCTCCTGTCTGCAATCTAATCTTA                   0.0   \n",
       "ATTACTCGAGTTCTCATGAGGCGAGAGCCAGGACGT                   0.0   \n",
       "ATTCAGAAATTCTTAGCTCAATGAGTCCTATAGCCT                   0.0   \n",
       "\n",
       "                                      chr1_3542557_3542899  \\\n",
       "AGCGATAGAACGAATTCGCCTCCGACGGCAGGACGT                   0.0   \n",
       "AGCGATAGAACGAATTCGTTGGTAGTCGATAGAGGC                   0.0   \n",
       "AGCGATAGAACGCGCAGAAAGCTAGGTTAGGCGAAG                   0.0   \n",
       "AGCGATAGAACGCGCAGAAAGCTAGGTTGTACTGAC                   0.0   \n",
       "AGCGATAGAACGCGCAGAAGCTTATAGGATAGAGGC                   0.0   \n",
       "...                                                    ...   \n",
       "TCCGGAGACTCAATTAGTCCATCGTTCCTATAGCCT                   0.0   \n",
       "TAATGCGCTATAATAGTTGATGCAGTTCATAGAGGC                   0.0   \n",
       "ATTACTCGTCAATCTCCTGTCTGCAATCTAATCTTA                   0.0   \n",
       "ATTACTCGAGTTCTCATGAGGCGAGAGCCAGGACGT                   0.0   \n",
       "ATTCAGAAATTCTTAGCTCAATGAGTCCTATAGCCT                   0.0   \n",
       "\n",
       "                                      chr1_3543104_3543794  \\\n",
       "AGCGATAGAACGAATTCGCCTCCGACGGCAGGACGT                   0.0   \n",
       "AGCGATAGAACGAATTCGTTGGTAGTCGATAGAGGC                   0.0   \n",
       "AGCGATAGAACGCGCAGAAAGCTAGGTTAGGCGAAG                   0.0   \n",
       "AGCGATAGAACGCGCAGAAAGCTAGGTTGTACTGAC                   0.0   \n",
       "AGCGATAGAACGCGCAGAAGCTTATAGGATAGAGGC                   0.0   \n",
       "...                                                    ...   \n",
       "TCCGGAGACTCAATTAGTCCATCGTTCCTATAGCCT                   0.0   \n",
       "TAATGCGCTATAATAGTTGATGCAGTTCATAGAGGC                   0.0   \n",
       "ATTACTCGTCAATCTCCTGTCTGCAATCTAATCTTA                   0.0   \n",
       "ATTACTCGAGTTCTCATGAGGCGAGAGCCAGGACGT                   0.0   \n",
       "ATTCAGAAATTCTTAGCTCAATGAGTCCTATAGCCT                   0.0   \n",
       "\n",
       "                                      chr1_3575901_3576436  \\\n",
       "AGCGATAGAACGAATTCGCCTCCGACGGCAGGACGT                   0.0   \n",
       "AGCGATAGAACGAATTCGTTGGTAGTCGATAGAGGC                   0.0   \n",
       "AGCGATAGAACGCGCAGAAAGCTAGGTTAGGCGAAG                   0.0   \n",
       "AGCGATAGAACGCGCAGAAAGCTAGGTTGTACTGAC                   0.0   \n",
       "AGCGATAGAACGCGCAGAAGCTTATAGGATAGAGGC                   0.0   \n",
       "...                                                    ...   \n",
       "TCCGGAGACTCAATTAGTCCATCGTTCCTATAGCCT                   0.0   \n",
       "TAATGCGCTATAATAGTTGATGCAGTTCATAGAGGC                   0.0   \n",
       "ATTACTCGTCAATCTCCTGTCTGCAATCTAATCTTA                   0.0   \n",
       "ATTACTCGAGTTCTCATGAGGCGAGAGCCAGGACGT                   0.0   \n",
       "ATTCAGAAATTCTTAGCTCAATGAGTCCTATAGCCT                   0.0   \n",
       "\n",
       "                                      chr1_3576535_3576855  \\\n",
       "AGCGATAGAACGAATTCGCCTCCGACGGCAGGACGT                   0.0   \n",
       "AGCGATAGAACGAATTCGTTGGTAGTCGATAGAGGC                   0.0   \n",
       "AGCGATAGAACGCGCAGAAAGCTAGGTTAGGCGAAG                   0.0   \n",
       "AGCGATAGAACGCGCAGAAAGCTAGGTTGTACTGAC                   0.0   \n",
       "AGCGATAGAACGCGCAGAAGCTTATAGGATAGAGGC                   0.0   \n",
       "...                                                    ...   \n",
       "TCCGGAGACTCAATTAGTCCATCGTTCCTATAGCCT                   0.0   \n",
       "TAATGCGCTATAATAGTTGATGCAGTTCATAGAGGC                   0.0   \n",
       "ATTACTCGTCAATCTCCTGTCTGCAATCTAATCTTA                   0.0   \n",
       "ATTACTCGAGTTCTCATGAGGCGAGAGCCAGGACGT                   0.0   \n",
       "ATTCAGAAATTCTTAGCTCAATGAGTCCTATAGCCT                   0.0   \n",
       "\n",
       "                                      chr1_3905789_3906055  \\\n",
       "AGCGATAGAACGAATTCGCCTCCGACGGCAGGACGT                   0.0   \n",
       "AGCGATAGAACGAATTCGTTGGTAGTCGATAGAGGC                   0.0   \n",
       "AGCGATAGAACGCGCAGAAAGCTAGGTTAGGCGAAG                   0.0   \n",
       "AGCGATAGAACGCGCAGAAAGCTAGGTTGTACTGAC                   0.0   \n",
       "AGCGATAGAACGCGCAGAAGCTTATAGGATAGAGGC                   0.0   \n",
       "...                                                    ...   \n",
       "TCCGGAGACTCAATTAGTCCATCGTTCCTATAGCCT                   0.0   \n",
       "TAATGCGCTATAATAGTTGATGCAGTTCATAGAGGC                   0.0   \n",
       "ATTACTCGTCAATCTCCTGTCTGCAATCTAATCTTA                   0.0   \n",
       "ATTACTCGAGTTCTCATGAGGCGAGAGCCAGGACGT                   0.0   \n",
       "ATTCAGAAATTCTTAGCTCAATGAGTCCTATAGCCT                   0.0   \n",
       "\n",
       "                                      chr1_3906310_3906587  ...  \\\n",
       "AGCGATAGAACGAATTCGCCTCCGACGGCAGGACGT                   0.0  ...   \n",
       "AGCGATAGAACGAATTCGTTGGTAGTCGATAGAGGC                   0.0  ...   \n",
       "AGCGATAGAACGCGCAGAAAGCTAGGTTAGGCGAAG                   0.0  ...   \n",
       "AGCGATAGAACGCGCAGAAAGCTAGGTTGTACTGAC                   0.0  ...   \n",
       "AGCGATAGAACGCGCAGAAGCTTATAGGATAGAGGC                   0.0  ...   \n",
       "...                                                    ...  ...   \n",
       "TCCGGAGACTCAATTAGTCCATCGTTCCTATAGCCT                   0.0  ...   \n",
       "TAATGCGCTATAATAGTTGATGCAGTTCATAGAGGC                   0.0  ...   \n",
       "ATTACTCGTCAATCTCCTGTCTGCAATCTAATCTTA                   0.0  ...   \n",
       "ATTACTCGAGTTCTCATGAGGCGAGAGCCAGGACGT                   0.0  ...   \n",
       "ATTCAGAAATTCTTAGCTCAATGAGTCCTATAGCCT                   0.0  ...   \n",
       "\n",
       "                                      chrX_166410541_166411550  \\\n",
       "AGCGATAGAACGAATTCGCCTCCGACGGCAGGACGT                       0.0   \n",
       "AGCGATAGAACGAATTCGTTGGTAGTCGATAGAGGC                       0.0   \n",
       "AGCGATAGAACGCGCAGAAAGCTAGGTTAGGCGAAG                       0.0   \n",
       "AGCGATAGAACGCGCAGAAAGCTAGGTTGTACTGAC                       0.0   \n",
       "AGCGATAGAACGCGCAGAAGCTTATAGGATAGAGGC                       0.0   \n",
       "...                                                        ...   \n",
       "TCCGGAGACTCAATTAGTCCATCGTTCCTATAGCCT                       0.0   \n",
       "TAATGCGCTATAATAGTTGATGCAGTTCATAGAGGC                       0.0   \n",
       "ATTACTCGTCAATCTCCTGTCTGCAATCTAATCTTA                       0.0   \n",
       "ATTACTCGAGTTCTCATGAGGCGAGAGCCAGGACGT                       0.0   \n",
       "ATTCAGAAATTCTTAGCTCAATGAGTCCTATAGCCT                       0.0   \n",
       "\n",
       "                                      chrX_166411693_166412078  \\\n",
       "AGCGATAGAACGAATTCGCCTCCGACGGCAGGACGT                       0.0   \n",
       "AGCGATAGAACGAATTCGTTGGTAGTCGATAGAGGC                       0.0   \n",
       "AGCGATAGAACGCGCAGAAAGCTAGGTTAGGCGAAG                       0.0   \n",
       "AGCGATAGAACGCGCAGAAAGCTAGGTTGTACTGAC                       0.0   \n",
       "AGCGATAGAACGCGCAGAAGCTTATAGGATAGAGGC                       0.0   \n",
       "...                                                        ...   \n",
       "TCCGGAGACTCAATTAGTCCATCGTTCCTATAGCCT                       0.0   \n",
       "TAATGCGCTATAATAGTTGATGCAGTTCATAGAGGC                       0.0   \n",
       "ATTACTCGTCAATCTCCTGTCTGCAATCTAATCTTA                       0.0   \n",
       "ATTACTCGAGTTCTCATGAGGCGAGAGCCAGGACGT                       0.0   \n",
       "ATTCAGAAATTCTTAGCTCAATGAGTCCTATAGCCT                       0.0   \n",
       "\n",
       "                                      chrX_166412859_166413381  \\\n",
       "AGCGATAGAACGAATTCGCCTCCGACGGCAGGACGT                       0.0   \n",
       "AGCGATAGAACGAATTCGTTGGTAGTCGATAGAGGC                       0.0   \n",
       "AGCGATAGAACGCGCAGAAAGCTAGGTTAGGCGAAG                       0.0   \n",
       "AGCGATAGAACGCGCAGAAAGCTAGGTTGTACTGAC                       0.0   \n",
       "AGCGATAGAACGCGCAGAAGCTTATAGGATAGAGGC                       0.0   \n",
       "...                                                        ...   \n",
       "TCCGGAGACTCAATTAGTCCATCGTTCCTATAGCCT                       0.0   \n",
       "TAATGCGCTATAATAGTTGATGCAGTTCATAGAGGC                       0.0   \n",
       "ATTACTCGTCAATCTCCTGTCTGCAATCTAATCTTA                       0.0   \n",
       "ATTACTCGAGTTCTCATGAGGCGAGAGCCAGGACGT                       0.0   \n",
       "ATTCAGAAATTCTTAGCTCAATGAGTCCTATAGCCT                       0.0   \n",
       "\n",
       "                                      chrX_166413546_166414204  \\\n",
       "AGCGATAGAACGAATTCGCCTCCGACGGCAGGACGT                       0.0   \n",
       "AGCGATAGAACGAATTCGTTGGTAGTCGATAGAGGC                       0.0   \n",
       "AGCGATAGAACGCGCAGAAAGCTAGGTTAGGCGAAG                       0.0   \n",
       "AGCGATAGAACGCGCAGAAAGCTAGGTTGTACTGAC                       0.0   \n",
       "AGCGATAGAACGCGCAGAAGCTTATAGGATAGAGGC                       0.0   \n",
       "...                                                        ...   \n",
       "TCCGGAGACTCAATTAGTCCATCGTTCCTATAGCCT                       0.0   \n",
       "TAATGCGCTATAATAGTTGATGCAGTTCATAGAGGC                       0.0   \n",
       "ATTACTCGTCAATCTCCTGTCTGCAATCTAATCTTA                       0.0   \n",
       "ATTACTCGAGTTCTCATGAGGCGAGAGCCAGGACGT                       0.0   \n",
       "ATTCAGAAATTCTTAGCTCAATGAGTCCTATAGCCT                       0.0   \n",
       "\n",
       "                                      chrX_166416270_166418640  \\\n",
       "AGCGATAGAACGAATTCGCCTCCGACGGCAGGACGT                       0.0   \n",
       "AGCGATAGAACGAATTCGTTGGTAGTCGATAGAGGC                       0.0   \n",
       "AGCGATAGAACGCGCAGAAAGCTAGGTTAGGCGAAG                       0.0   \n",
       "AGCGATAGAACGCGCAGAAAGCTAGGTTGTACTGAC                       0.0   \n",
       "AGCGATAGAACGCGCAGAAGCTTATAGGATAGAGGC                       0.0   \n",
       "...                                                        ...   \n",
       "TCCGGAGACTCAATTAGTCCATCGTTCCTATAGCCT                       0.0   \n",
       "TAATGCGCTATAATAGTTGATGCAGTTCATAGAGGC                       0.0   \n",
       "ATTACTCGTCAATCTCCTGTCTGCAATCTAATCTTA                       0.0   \n",
       "ATTACTCGAGTTCTCATGAGGCGAGAGCCAGGACGT                       0.0   \n",
       "ATTCAGAAATTCTTAGCTCAATGAGTCCTATAGCCT                       1.0   \n",
       "\n",
       "                                      chrX_166418652_166420035  \\\n",
       "AGCGATAGAACGAATTCGCCTCCGACGGCAGGACGT                       0.0   \n",
       "AGCGATAGAACGAATTCGTTGGTAGTCGATAGAGGC                       0.0   \n",
       "AGCGATAGAACGCGCAGAAAGCTAGGTTAGGCGAAG                       0.0   \n",
       "AGCGATAGAACGCGCAGAAAGCTAGGTTGTACTGAC                       0.0   \n",
       "AGCGATAGAACGCGCAGAAGCTTATAGGATAGAGGC                       0.0   \n",
       "...                                                        ...   \n",
       "TCCGGAGACTCAATTAGTCCATCGTTCCTATAGCCT                       0.0   \n",
       "TAATGCGCTATAATAGTTGATGCAGTTCATAGAGGC                       0.0   \n",
       "ATTACTCGTCAATCTCCTGTCTGCAATCTAATCTTA                       0.0   \n",
       "ATTACTCGAGTTCTCATGAGGCGAGAGCCAGGACGT                       0.0   \n",
       "ATTCAGAAATTCTTAGCTCAATGAGTCCTATAGCCT                       0.0   \n",
       "\n",
       "                                      chrY_451796_452329  chrY_452646_452987  \\\n",
       "AGCGATAGAACGAATTCGCCTCCGACGGCAGGACGT                 0.0                 0.0   \n",
       "AGCGATAGAACGAATTCGTTGGTAGTCGATAGAGGC                 0.0                 0.0   \n",
       "AGCGATAGAACGCGCAGAAAGCTAGGTTAGGCGAAG                 0.0                 0.0   \n",
       "AGCGATAGAACGCGCAGAAAGCTAGGTTGTACTGAC                 0.0                 0.0   \n",
       "AGCGATAGAACGCGCAGAAGCTTATAGGATAGAGGC                 0.0                 0.0   \n",
       "...                                                  ...                 ...   \n",
       "TCCGGAGACTCAATTAGTCCATCGTTCCTATAGCCT                 0.0                 0.0   \n",
       "TAATGCGCTATAATAGTTGATGCAGTTCATAGAGGC                 0.0                 0.0   \n",
       "ATTACTCGTCAATCTCCTGTCTGCAATCTAATCTTA                 0.0                 0.0   \n",
       "ATTACTCGAGTTCTCATGAGGCGAGAGCCAGGACGT                 0.0                 0.0   \n",
       "ATTCAGAAATTCTTAGCTCAATGAGTCCTATAGCCT                 0.0                 0.0   \n",
       "\n",
       "                                      chrY_590064_590392  chrY_590469_590895  \n",
       "AGCGATAGAACGAATTCGCCTCCGACGGCAGGACGT                 0.0                 0.0  \n",
       "AGCGATAGAACGAATTCGTTGGTAGTCGATAGAGGC                 0.0                 0.0  \n",
       "AGCGATAGAACGCGCAGAAAGCTAGGTTAGGCGAAG                 0.0                 0.0  \n",
       "AGCGATAGAACGCGCAGAAAGCTAGGTTGTACTGAC                 0.0                 0.0  \n",
       "AGCGATAGAACGCGCAGAAGCTTATAGGATAGAGGC                 0.0                 0.0  \n",
       "...                                                  ...                 ...  \n",
       "TCCGGAGACTCAATTAGTCCATCGTTCCTATAGCCT                 0.0                 0.0  \n",
       "TAATGCGCTATAATAGTTGATGCAGTTCATAGAGGC                 0.0                 0.0  \n",
       "ATTACTCGTCAATCTCCTGTCTGCAATCTAATCTTA                 0.0                 0.0  \n",
       "ATTACTCGAGTTCTCATGAGGCGAGAGCCAGGACGT                 0.0                 0.0  \n",
       "ATTCAGAAATTCTTAGCTCAATGAGTCCTATAGCCT                 0.0                 0.0  \n",
       "\n",
       "[81173 rows x 43103 columns]"
      ]
     },
     "execution_count": 50,
     "metadata": {},
     "output_type": "execute_result"
    }
   ],
   "source": [
    "output_dataframe"
   ]
  },
  {
   "cell_type": "code",
   "execution_count": 12,
   "metadata": {},
   "outputs": [],
   "source": [
    "output_dataframe.T.to_csv('mouse_atlas_cicero.csv')"
   ]
  },
  {
   "cell_type": "code",
   "execution_count": 31,
   "metadata": {},
   "outputs": [],
   "source": [
    "df = pd.read_csv('../data/MouseAtlasPreprocessed/mouse_atlas/labels.txt', sep='\\t', header=None, index_col=0)"
   ]
  },
  {
   "cell_type": "code",
   "execution_count": 33,
   "metadata": {},
   "outputs": [
    {
     "data": {
      "text/plain": [
       "Index(['AGCGATAGAACGAATTCGCCTCCGACGGCAGGACGT',\n",
       "       'AGCGATAGAACGAATTCGTTGGTAGTCGATAGAGGC',\n",
       "       'AGCGATAGAACGCGCAGAAAGCTAGGTTAGGCGAAG',\n",
       "       'AGCGATAGAACGCGCAGAAAGCTAGGTTGTACTGAC',\n",
       "       'AGCGATAGAACGCGCAGAAGCTTATAGGATAGAGGC',\n",
       "       'AGCGATAGAACGCGCAGAGATTAGATGAGGCTCTGA',\n",
       "       'AGCGATAGAACGCGCAGATGCTACGGTCAGGCGAAG',\n",
       "       'AGCGATAGAACGCGCAGATGGCGTAGAAGGCTCTGA',\n",
       "       'AGCGATAGAACGCGCAGATGGCGTAGAATAATCTTA',\n",
       "       'AGCGATAGAACGCGCAGATTCAGCTTGGGTACTGAC',\n",
       "       ...\n",
       "       'CGCTCATTAGTTCTCATGGGTAATAATGTAATCTTA',\n",
       "       'TCCGGAGATCTATCGCTGCCGACTCCAAGGCTCTGA',\n",
       "       'TAATGCGCTAGTAAGCCGCCATCGTTCCTATAGCCT',\n",
       "       'GAGATTCCTAGGTAACTTTCAAGATAGTTATAGCCT',\n",
       "       'GAGATTCCCCGTATGATTGTAGACCTGGGGCTCTGA',\n",
       "       'TCCGGAGACTCAATTAGTCCATCGTTCCTATAGCCT',\n",
       "       'TAATGCGCTATAATAGTTGATGCAGTTCATAGAGGC',\n",
       "       'ATTACTCGTCAATCTCCTGTCTGCAATCTAATCTTA',\n",
       "       'ATTACTCGAGTTCTCATGAGGCGAGAGCCAGGACGT',\n",
       "       'ATTCAGAAATTCTTAGCTCAATGAGTCCTATAGCCT'],\n",
       "      dtype='object', name=0, length=81173)"
      ]
     },
     "execution_count": 33,
     "metadata": {},
     "output_type": "execute_result"
    }
   ],
   "source": [
    "df.index"
   ]
  },
  {
   "cell_type": "code",
   "execution_count": 34,
   "metadata": {},
   "outputs": [
    {
     "data": {
      "text/plain": [
       "0\n",
       "AGCGATAGAACGAATTCGCCTCCGACGGCAGGACGT    Hematopoietic progenitors\n",
       "AGCGATAGAACGAATTCGTTGGTAGTCGATAGAGGC    Hematopoietic progenitors\n",
       "AGCGATAGAACGCGCAGAAAGCTAGGTTAGGCGAAG    Hematopoietic progenitors\n",
       "AGCGATAGAACGCGCAGAAAGCTAGGTTGTACTGAC    Hematopoietic progenitors\n",
       "AGCGATAGAACGCGCAGAAGCTTATAGGATAGAGGC    Hematopoietic progenitors\n",
       "                                                  ...            \n",
       "TCCGGAGACTCAATTAGTCCATCGTTCCTATAGCCT         Endothelial II cells\n",
       "TAATGCGCTATAATAGTTGATGCAGTTCATAGAGGC         Endothelial II cells\n",
       "ATTACTCGTCAATCTCCTGTCTGCAATCTAATCTTA         Endothelial II cells\n",
       "ATTACTCGAGTTCTCATGAGGCGAGAGCCAGGACGT         Endothelial II cells\n",
       "ATTCAGAAATTCTTAGCTCAATGAGTCCTATAGCCT         Endothelial II cells\n",
       "Name: 1, Length: 81173, dtype: object"
      ]
     },
     "execution_count": 34,
     "metadata": {},
     "output_type": "execute_result"
    }
   ],
   "source": [
    "df[1]"
   ]
  },
  {
   "cell_type": "code",
   "execution_count": null,
   "metadata": {},
   "outputs": [],
   "source": []
  }
 ],
 "metadata": {
  "kernelspec": {
   "display_name": "bioinfo",
   "language": "python",
   "name": "bioinfo"
  },
  "language_info": {
   "codemirror_mode": {
    "name": "ipython",
    "version": 3
   },
   "file_extension": ".py",
   "mimetype": "text/x-python",
   "name": "python",
   "nbconvert_exporter": "python",
   "pygments_lexer": "ipython3",
   "version": "3.7.10"
  }
 },
 "nbformat": 4,
 "nbformat_minor": 4
}

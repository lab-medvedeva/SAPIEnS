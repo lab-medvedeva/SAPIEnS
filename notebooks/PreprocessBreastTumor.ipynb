{
 "cells": [
  {
   "cell_type": "code",
   "execution_count": 2,
   "metadata": {},
   "outputs": [],
   "source": [
    "import pandas as pd"
   ]
  },
  {
   "cell_type": "code",
   "execution_count": 14,
   "metadata": {},
   "outputs": [],
   "source": [
    "df = pd.read_csv('../datasets/Breast_Tumor/data.txt', sep='\\t', index_col=0)"
   ]
  },
  {
   "cell_type": "code",
   "execution_count": 15,
   "metadata": {},
   "outputs": [
    {
     "data": {
      "text/plain": [
       "Index(['Tumor-plate1-1-TAAGGCGA-GAACGGCT_S385',\n",
       "       'Tumor-plate1-2-CGTACTAG-GAACGGCT_S386',\n",
       "       'Tumor-plate1-3-AGGCAGAA-GAACGGCT_S387',\n",
       "       'Tumor-plate1-4-TCCTGAGC-GAACGGCT_S388',\n",
       "       'Tumor-plate1-5-GGACTCCT-GAACGGCT_S389',\n",
       "       'Tumor-plate1-6-TAGGCATG-GAACGGCT_S390',\n",
       "       'Tumor-plate1-7-CTCTCTAC-GAACGGCT_S391',\n",
       "       'Tumor-plate1-8-CAGAGAGG-GAACGGCT_S392',\n",
       "       'Tumor-plate1-9-GCTACGCT-GAACGGCT_S393',\n",
       "       'Tumor-plate1-10-CGAGGCTG-GAACGGCT_S394',\n",
       "       ...\n",
       "       'Tumor-plate4-87-GCCTCTGG-CCAAGCCC_S759',\n",
       "       'Tumor-plate4-88-TCGCCCAC-CCAAGCCC_S760',\n",
       "       'Tumor-plate4-89-CACTAGGC-CCAAGCCC_S761',\n",
       "       'Tumor-plate4-90-TCGAAGCC-CCAAGCCC_S762',\n",
       "       'Tumor-plate4-91-GCATGTAC-CCAAGCCC_S763',\n",
       "       'Tumor-plate4-92-GTTCGAGT-CCAAGCCC_S764',\n",
       "       'Tumor-plate4-93-CCGGGCGC-CCAAGCCC_S765',\n",
       "       'Tumor-plate4-94-AGATTTAA-CCAAGCCC_S766',\n",
       "       'Tumor-plate4-95-CACCATTG-CCAAGCCC_S767',\n",
       "       'Tumor-plate4-96-AATAAGAC-CCAAGCCC_S768'],\n",
       "      dtype='object', length=384)"
      ]
     },
     "execution_count": 15,
     "metadata": {},
     "output_type": "execute_result"
    }
   ],
   "source": [
    "df.columns"
   ]
  },
  {
   "cell_type": "code",
   "execution_count": 16,
   "metadata": {},
   "outputs": [],
   "source": [
    "def get_column_name(name):\n",
    "    return '-'.join(name.split('-')[:3])"
   ]
  },
  {
   "cell_type": "code",
   "execution_count": 17,
   "metadata": {},
   "outputs": [
    {
     "data": {
      "text/plain": [
       "'Tumor-plate1-1'"
      ]
     },
     "execution_count": 17,
     "metadata": {},
     "output_type": "execute_result"
    }
   ],
   "source": [
    "get_column_name(df.columns[0])"
   ]
  },
  {
   "cell_type": "code",
   "execution_count": 18,
   "metadata": {},
   "outputs": [],
   "source": [
    "column_names = [get_column_name(name) for name in df.columns]"
   ]
  },
  {
   "cell_type": "code",
   "execution_count": 19,
   "metadata": {},
   "outputs": [],
   "source": [
    "df.columns = column_names"
   ]
  },
  {
   "cell_type": "code",
   "execution_count": 21,
   "metadata": {},
   "outputs": [],
   "source": [
    "df.to_csv('../datasets/Breast_Tumor/data_fixed.txt', sep='\\t')"
   ]
  },
  {
   "cell_type": "code",
   "execution_count": 22,
   "metadata": {},
   "outputs": [],
   "source": [
    "df_names = pd.DataFrame(column_names)"
   ]
  },
  {
   "cell_type": "code",
   "execution_count": 24,
   "metadata": {},
   "outputs": [],
   "source": [
    "df_names['label'] = df_names[0].apply(lambda x: x.rsplit('-', 1)[0])"
   ]
  },
  {
   "cell_type": "code",
   "execution_count": 25,
   "metadata": {},
   "outputs": [
    {
     "data": {
      "text/html": [
       "<div>\n",
       "<style scoped>\n",
       "    .dataframe tbody tr th:only-of-type {\n",
       "        vertical-align: middle;\n",
       "    }\n",
       "\n",
       "    .dataframe tbody tr th {\n",
       "        vertical-align: top;\n",
       "    }\n",
       "\n",
       "    .dataframe thead th {\n",
       "        text-align: right;\n",
       "    }\n",
       "</style>\n",
       "<table border=\"1\" class=\"dataframe\">\n",
       "  <thead>\n",
       "    <tr style=\"text-align: right;\">\n",
       "      <th></th>\n",
       "      <th>0</th>\n",
       "      <th>label</th>\n",
       "    </tr>\n",
       "  </thead>\n",
       "  <tbody>\n",
       "    <tr>\n",
       "      <th>0</th>\n",
       "      <td>Tumor-plate1-1</td>\n",
       "      <td>Tumor-plate1</td>\n",
       "    </tr>\n",
       "    <tr>\n",
       "      <th>1</th>\n",
       "      <td>Tumor-plate1-2</td>\n",
       "      <td>Tumor-plate1</td>\n",
       "    </tr>\n",
       "    <tr>\n",
       "      <th>2</th>\n",
       "      <td>Tumor-plate1-3</td>\n",
       "      <td>Tumor-plate1</td>\n",
       "    </tr>\n",
       "    <tr>\n",
       "      <th>3</th>\n",
       "      <td>Tumor-plate1-4</td>\n",
       "      <td>Tumor-plate1</td>\n",
       "    </tr>\n",
       "    <tr>\n",
       "      <th>4</th>\n",
       "      <td>Tumor-plate1-5</td>\n",
       "      <td>Tumor-plate1</td>\n",
       "    </tr>\n",
       "    <tr>\n",
       "      <th>...</th>\n",
       "      <td>...</td>\n",
       "      <td>...</td>\n",
       "    </tr>\n",
       "    <tr>\n",
       "      <th>379</th>\n",
       "      <td>Tumor-plate4-92</td>\n",
       "      <td>Tumor-plate4</td>\n",
       "    </tr>\n",
       "    <tr>\n",
       "      <th>380</th>\n",
       "      <td>Tumor-plate4-93</td>\n",
       "      <td>Tumor-plate4</td>\n",
       "    </tr>\n",
       "    <tr>\n",
       "      <th>381</th>\n",
       "      <td>Tumor-plate4-94</td>\n",
       "      <td>Tumor-plate4</td>\n",
       "    </tr>\n",
       "    <tr>\n",
       "      <th>382</th>\n",
       "      <td>Tumor-plate4-95</td>\n",
       "      <td>Tumor-plate4</td>\n",
       "    </tr>\n",
       "    <tr>\n",
       "      <th>383</th>\n",
       "      <td>Tumor-plate4-96</td>\n",
       "      <td>Tumor-plate4</td>\n",
       "    </tr>\n",
       "  </tbody>\n",
       "</table>\n",
       "<p>384 rows × 2 columns</p>\n",
       "</div>"
      ],
      "text/plain": [
       "                   0         label\n",
       "0     Tumor-plate1-1  Tumor-plate1\n",
       "1     Tumor-plate1-2  Tumor-plate1\n",
       "2     Tumor-plate1-3  Tumor-plate1\n",
       "3     Tumor-plate1-4  Tumor-plate1\n",
       "4     Tumor-plate1-5  Tumor-plate1\n",
       "..               ...           ...\n",
       "379  Tumor-plate4-92  Tumor-plate4\n",
       "380  Tumor-plate4-93  Tumor-plate4\n",
       "381  Tumor-plate4-94  Tumor-plate4\n",
       "382  Tumor-plate4-95  Tumor-plate4\n",
       "383  Tumor-plate4-96  Tumor-plate4\n",
       "\n",
       "[384 rows x 2 columns]"
      ]
     },
     "execution_count": 25,
     "metadata": {},
     "output_type": "execute_result"
    }
   ],
   "source": [
    "df_names"
   ]
  },
  {
   "cell_type": "code",
   "execution_count": 26,
   "metadata": {},
   "outputs": [],
   "source": [
    "df_names.to_csv('../datasets/Breast_Tumor/labels_fitted.txt', sep='\\t', columns=None, index=None)"
   ]
  },
  {
   "cell_type": "code",
   "execution_count": null,
   "metadata": {},
   "outputs": [],
   "source": []
  }
 ],
 "metadata": {
  "kernelspec": {
   "display_name": "bioinfo",
   "language": "python",
   "name": "bioinfo"
  },
  "language_info": {
   "codemirror_mode": {
    "name": "ipython",
    "version": 3
   },
   "file_extension": ".py",
   "mimetype": "text/x-python",
   "name": "python",
   "nbconvert_exporter": "python",
   "pygments_lexer": "ipython3",
   "version": "3.7.10"
  }
 },
 "nbformat": 4,
 "nbformat_minor": 4
}

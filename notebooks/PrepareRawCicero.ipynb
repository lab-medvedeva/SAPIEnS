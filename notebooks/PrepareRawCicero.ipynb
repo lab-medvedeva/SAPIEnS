{
 "cells": [
  {
   "cell_type": "code",
   "execution_count": 4,
   "metadata": {},
   "outputs": [],
   "source": [
    "from scale.dataset import read_mtx"
   ]
  },
  {
   "cell_type": "code",
   "execution_count": 5,
   "metadata": {},
   "outputs": [],
   "source": [
    "from scale.dataset import SingleCellDataset"
   ]
  },
  {
   "cell_type": "code",
   "execution_count": 1,
   "metadata": {},
   "outputs": [],
   "source": [
    "import os\n",
    "os.makedirs('mouse_cicero_pipeline/raw_beds_after_cicero')"
   ]
  },
  {
   "cell_type": "code",
   "execution_count": 2,
   "metadata": {},
   "outputs": [],
   "source": [
    "import pandas as pd"
   ]
  },
  {
   "cell_type": "code",
   "execution_count": 3,
   "metadata": {},
   "outputs": [],
   "source": [
    "labels = pd.read_csv('../data/MouseAtlasPreprocessed/mouse_atlas/labels.txt', sep='\\t', header=None)\n",
    "# count, feature, barcode = read_mtx('mouse_atlas_cicero')\n",
    "cell_types = labels[1].unique()\n",
    "cell_barcodes = {}\n",
    "for cell_type in cell_types:\n",
    "    cell_barcodes[cell_type] = list(labels[labels[1] == cell_type].index)\n",
    "    \n"
   ]
  },
  {
   "cell_type": "code",
   "execution_count": 12,
   "metadata": {},
   "outputs": [
    {
     "name": "stdout",
     "output_type": "stream",
     "text": [
      "Hematopoietic progenitors [19. 19. 19. 19. 19. 19. 19. 19. 19. 19.]\n",
      "Unknown [58. 58. 58. 58. 58. 58. 58. 58. 58. 58.]\n",
      "Proximal tubule [7. 7. 7. 7. 7. 7. 7. 7. 7. 7.]\n",
      "Proximal tubule S3 [3. 3. 3. 3. 3. 3. 3. 3. 3. 3.]\n",
      "T cells [23. 23. 23. 23. 23. 23. 23. 23. 23. 23.]\n",
      "Regulatory T cells [1. 1. 1. 1. 1. 1. 1. 1. 1. 1.]\n",
      "NK cells [0. 0. 0. 0. 0. 0. 0. 0. 0. 0.]\n",
      "Erythroblasts [6. 6. 6. 6. 6. 6. 6. 6. 6. 6.]\n",
      "Sperm [8. 8. 8. 8. 8. 8. 8. 8. 8. 8.]\n",
      "Inhibitory neurons [18. 18. 18. 18. 18. 18. 18. 18. 18. 18.]\n",
      "SOM+ Interneurons [3. 3. 3. 3. 3. 3. 3. 3. 3. 3.]\n",
      "B cells [12. 12. 12. 12. 12. 12. 12. 12. 12. 12.]\n",
      "Macrophages [2. 2. 2. 2. 2. 2. 2. 2. 2. 2.]\n",
      "Microglia [1. 1. 1. 1. 1. 1. 1. 1. 1. 1.]\n",
      "Dendritic cells [2. 2. 2. 2. 2. 2. 2. 2. 2. 2.]\n",
      "Alveolar macrophages [2. 2. 2. 2. 2. 2. 2. 2. 2. 2.]\n",
      "Collisions [8. 8. 8. 8. 8. 8. 8. 8. 8. 8.]\n",
      "DCT/CD [1. 1. 1. 1. 1. 1. 1. 1. 1. 1.]\n",
      "Loop of henle [2. 2. 2. 2. 2. 2. 2. 2. 2. 2.]\n",
      "Distal convoluted tubule [1. 1. 1. 1. 1. 1. 1. 1. 1. 1.]\n",
      "Collecting duct [0. 0. 0. 0. 0. 0. 0. 0. 0. 0.]\n",
      "Astrocytes [3. 3. 3. 3. 3. 3. 3. 3. 3. 3.]\n",
      "Type I pneumocytes [4. 4. 4. 4. 4. 4. 4. 4. 4. 4.]\n",
      "Oligodendrocytes [2. 2. 2. 2. 2. 2. 2. 2. 2. 2.]\n",
      "Endothelial I cells [1. 1. 1. 1. 1. 1. 1. 1. 1. 1.]\n",
      "Endothelial I (glomerular) [0. 0. 0. 0. 0. 0. 0. 0. 0. 0.]\n",
      "Endothelial II cells [7. 7. 7. 7. 7. 7. 7. 7. 7. 7.]\n",
      "Monocytes [3. 3. 3. 3. 3. 3. 3. 3. 3. 3.]\n",
      "Podocytes [1. 1. 1. 1. 1. 1. 1. 1. 1. 1.]\n",
      "Purkinje cells [1. 1. 1. 1. 1. 1. 1. 1. 1. 1.]\n",
      "Immature B cells [0. 0. 0. 0. 0. 0. 0. 0. 0. 0.]\n",
      "Ex. neurons SCPN [12. 12. 12. 12. 12. 12. 12. 12. 12. 12.]\n",
      "Type II pneumocytes [0. 0. 0. 0. 0. 0. 0. 0. 0. 0.]\n",
      "Hepatocytes [18. 18. 18. 18. 18. 18. 18. 18. 18. 18.]\n",
      "Activated B cells [0. 0. 0. 0. 0. 0. 0. 0. 0. 0.]\n",
      "Ex. neurons CPN [14. 14. 14. 14. 14. 14. 14. 14. 14. 14.]\n",
      "Ex. neurons CThPN [15. 15. 15. 15. 15. 15. 15. 15. 15. 15.]\n",
      "Enterocytes [25. 25. 25. 25. 25. 25. 25. 25. 25. 25.]\n",
      "Cardiomyocytes [18. 18. 18. 18. 18. 18. 18. 18. 18. 18.]\n",
      "Cerebellar granule cells [8. 8. 8. 8. 8. 8. 8. 8. 8. 8.]\n"
     ]
    }
   ],
   "source": [
    "import numpy as np\n",
    "\n",
    "for cell_type, barcode in cell_barcodes.items():\n",
    "    cell_by_feature = np.asarray(count[barcode].sum(axis=0)).flatten()\n",
    "    output = pd.DataFrame(feature[np.argsort(cell_by_feature)[-30000:]])\n",
    "    print(cell_type, cell_by_feature[np.argsort(cell_by_feature)[-30000:]][:10])\n",
    "    output['chr'] = output[0].apply(lambda x: x.split('_')[0])\n",
    "    output['start'] = output[0].apply(lambda x: x.split('_')[1])\n",
    "    output['end'] = output[0].apply(lambda x: x.split('_')[2])\n",
    "    output.drop(0, axis=1).to_csv(\n",
    "        os.path.join('mouse_cicero_pipeline/raw_beds_after_cicero', f'{cell_type.replace(\" \", \"_\").replace(\"/\", \"_\")}.bed'),\n",
    "        header=None,\n",
    "        index=None,\n",
    "        sep='\\t'\n",
    "    )"
   ]
  },
  {
   "cell_type": "code",
   "execution_count": 25,
   "metadata": {},
   "outputs": [
    {
     "data": {
      "text/plain": [
       "<81173x32198 sparse matrix of type '<class 'numpy.float32'>'\n",
       "\twith 79002050 stored elements in Compressed Sparse Row format>"
      ]
     },
     "execution_count": 25,
     "metadata": {},
     "output_type": "execute_result"
    }
   ],
   "source": [
    "dataset.data"
   ]
  },
  {
   "cell_type": "code",
   "execution_count": 2,
   "metadata": {},
   "outputs": [],
   "source": [
    "count, feature, barcode = read_mtx('mouse_atlas_cicero/')"
   ]
  },
  {
   "cell_type": "code",
   "execution_count": 4,
   "metadata": {},
   "outputs": [],
   "source": [
    "import pandas as pd"
   ]
  },
  {
   "cell_type": "code",
   "execution_count": 5,
   "metadata": {},
   "outputs": [],
   "source": [
    "ref = pd.read_csv('mouse_atlas_cicero/labels.txt', sep='\\t', header=None, index_col=0)"
   ]
  },
  {
   "cell_type": "code",
   "execution_count": 8,
   "metadata": {},
   "outputs": [],
   "source": [
    "ref_cells = ref[1]\n",
    "ref_peaks = ref.index"
   ]
  },
  {
   "cell_type": "code",
   "execution_count": 15,
   "metadata": {},
   "outputs": [],
   "source": [
    "labels = ref_cells.reindex(dataset.barcode, fill_value='unknown')"
   ]
  },
  {
   "cell_type": "code",
   "execution_count": 19,
   "metadata": {},
   "outputs": [
    {
     "data": {
      "text/plain": [
       "(81173,)"
      ]
     },
     "execution_count": 19,
     "metadata": {},
     "output_type": "execute_result"
    }
   ],
   "source": [
    "dataset.barcode.shape"
   ]
  },
  {
   "cell_type": "code",
   "execution_count": 21,
   "metadata": {},
   "outputs": [
    {
     "data": {
      "text/plain": [
       "0\n",
       "AGCGATAGAACGAATTCGCCTCCGACGGCAGGACGT    Hematopoietic progenitors\n",
       "AGCGATAGAACGAATTCGTTGGTAGTCGATAGAGGC    Hematopoietic progenitors\n",
       "AGCGATAGAACGCGCAGAAAGCTAGGTTAGGCGAAG    Hematopoietic progenitors\n",
       "AGCGATAGAACGCGCAGAAAGCTAGGTTGTACTGAC    Hematopoietic progenitors\n",
       "AGCGATAGAACGCGCAGAAGCTTATAGGATAGAGGC    Hematopoietic progenitors\n",
       "                                                  ...            \n",
       "TCCGGAGACTCAATTAGTCCATCGTTCCTATAGCCT         Endothelial II cells\n",
       "TAATGCGCTATAATAGTTGATGCAGTTCATAGAGGC         Endothelial II cells\n",
       "ATTACTCGTCAATCTCCTGTCTGCAATCTAATCTTA         Endothelial II cells\n",
       "ATTACTCGAGTTCTCATGAGGCGAGAGCCAGGACGT         Endothelial II cells\n",
       "ATTCAGAAATTCTTAGCTCAATGAGTCCTATAGCCT         Endothelial II cells\n",
       "Name: 1, Length: 81173, dtype: object"
      ]
     },
     "execution_count": 21,
     "metadata": {},
     "output_type": "execute_result"
    }
   ],
   "source": [
    "labels"
   ]
  },
  {
   "cell_type": "code",
   "execution_count": 18,
   "metadata": {},
   "outputs": [
    {
     "ename": "IndexError",
     "evalue": "boolean index did not match indexed array along dimension 0; dimension is 43103 but corresponding boolean dimension is 81173",
     "output_type": "error",
     "traceback": [
      "\u001b[0;31m---------------------------------------------------------------------------\u001b[0m",
      "\u001b[0;31mIndexError\u001b[0m                                Traceback (most recent call last)",
      "\u001b[0;32m<ipython-input-18-b5948eb6908c>\u001b[0m in \u001b[0;36m<module>\u001b[0;34m\u001b[0m\n\u001b[1;32m      1\u001b[0m \u001b[0mlabels_filtered\u001b[0m \u001b[0;34m=\u001b[0m \u001b[0mlabels\u001b[0m\u001b[0;34m[\u001b[0m\u001b[0mlabels\u001b[0m \u001b[0;34m!=\u001b[0m \u001b[0;34m'Unknown'\u001b[0m\u001b[0;34m]\u001b[0m\u001b[0;34m\u001b[0m\u001b[0;34m\u001b[0m\u001b[0m\n\u001b[0;32m----> 2\u001b[0;31m \u001b[0mfeature_filtered\u001b[0m \u001b[0;34m=\u001b[0m \u001b[0mfeature\u001b[0m\u001b[0;34m[\u001b[0m\u001b[0mlabels\u001b[0m \u001b[0;34m!=\u001b[0m \u001b[0;34m'Unknown'\u001b[0m\u001b[0;34m]\u001b[0m\u001b[0;34m\u001b[0m\u001b[0;34m\u001b[0m\u001b[0m\n\u001b[0m",
      "\u001b[0;31mIndexError\u001b[0m: boolean index did not match indexed array along dimension 0; dimension is 43103 but corresponding boolean dimension is 81173"
     ]
    }
   ],
   "source": [
    "labels_filtered = labels[labels != 'Unknown']\n",
    "feature_filtered = feature[labels != 'Unknown']"
   ]
  },
  {
   "cell_type": "code",
   "execution_count": null,
   "metadata": {},
   "outputs": [],
   "source": []
  }
 ],
 "metadata": {
  "kernelspec": {
   "display_name": "bioinfo",
   "language": "python",
   "name": "bioinfo"
  },
  "language_info": {
   "codemirror_mode": {
    "name": "ipython",
    "version": 3
   },
   "file_extension": ".py",
   "mimetype": "text/x-python",
   "name": "python",
   "nbconvert_exporter": "python",
   "pygments_lexer": "ipython3",
   "version": "3.8.10"
  }
 },
 "nbformat": 4,
 "nbformat_minor": 4
}

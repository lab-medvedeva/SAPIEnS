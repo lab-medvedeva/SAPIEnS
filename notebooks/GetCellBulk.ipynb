{
 "cells": [
  {
   "cell_type": "code",
   "execution_count": 1,
   "metadata": {},
   "outputs": [],
   "source": [
    "import sys\n",
    "sys.path.append('..')"
   ]
  },
  {
   "cell_type": "code",
   "execution_count": 2,
   "metadata": {},
   "outputs": [],
   "source": [
    "import pysam"
   ]
  },
  {
   "cell_type": "code",
   "execution_count": 18,
   "metadata": {},
   "outputs": [],
   "source": [
    "import os"
   ]
  },
  {
   "cell_type": "code",
   "execution_count": 19,
   "metadata": {},
   "outputs": [],
   "source": [
    "from collections import defaultdict"
   ]
  },
  {
   "cell_type": "code",
   "execution_count": 20,
   "metadata": {},
   "outputs": [],
   "source": [
    "cell_dicts = defaultdict(set)"
   ]
  },
  {
   "cell_type": "code",
   "execution_count": 36,
   "metadata": {},
   "outputs": [],
   "source": [
    "cell_mapping = {}"
   ]
  },
  {
   "cell_type": "code",
   "execution_count": 37,
   "metadata": {},
   "outputs": [],
   "source": [
    "for filename in sorted(os.listdir('.')):\n",
    "    if filename.endswith('.txt'):\n",
    "        cell_type = filename.rsplit('.')[0]\n",
    "        with open(filename, 'r') as fp:\n",
    "            for line in fp:\n",
    "                cell_dicts[cell_type].add(line.strip())\n",
    "                cell_mapping[line.strip()] = cell_type"
   ]
  },
  {
   "cell_type": "code",
   "execution_count": 23,
   "metadata": {},
   "outputs": [],
   "source": [
    "from tqdm import tqdm"
   ]
  },
  {
   "cell_type": "code",
   "execution_count": 41,
   "metadata": {},
   "outputs": [
    {
     "name": "stderr",
     "output_type": "stream",
     "text": [
      "209876755it [11:20, 308248.67it/s]\n",
      "208242905it [11:26, 303317.43it/s]\n"
     ]
    }
   ],
   "source": [
    "cnt = 0\n",
    "with pysam.AlignmentFile('../../data/Forebrain/p56.rep1.nsrt.bam', 'rb') as alignment_file:\n",
    "    cell_sams = {\n",
    "        cell_type: pysam.AlignmentFile(f'{cell_type}.bam', 'wb', template=alignment_file) for cell_type in cell_dicts.keys()\n",
    "    }\n",
    "    for read in tqdm(alignment_file.fetch()):\n",
    "        if read.mapq < 30:\n",
    "            continue\n",
    "        if not read.is_paired:\n",
    "            continue\n",
    "        reference_name = str(read.reference_name)\n",
    "        if reference_name == 'chrM':\n",
    "            continue\n",
    "        if not read.is_proper_pair:\n",
    "            continue\n",
    "        cell_name = read.qname.split(':')[0]\n",
    "        if cell_name not in cell_mapping:\n",
    "            continue\n",
    "        else:\n",
    "            cnt += 1\n",
    "        cell_type = cell_mapping[cell_name]\n",
    "        cell_sams[cell_type].write(read)\n",
    "        \n",
    "with pysam.AlignmentFile('../../data/Forebrain/p56.rep2.nsrt.bam', 'rb') as alignment_file:\n",
    "    for read in tqdm(alignment_file.fetch()):\n",
    "        if read.mapq < 30:\n",
    "            continue\n",
    "        if not read.is_paired:\n",
    "            continue\n",
    "        reference_name = str(read.reference_name)\n",
    "        if reference_name == 'chrM':\n",
    "            continue\n",
    "        if not read.is_proper_pair:\n",
    "            continue\n",
    "        cell_name = read.qname.split(':')[0]\n",
    "        if cell_name not in cell_mapping:\n",
    "            continue\n",
    "        else:\n",
    "            cnt += 1\n",
    "        cell_type = cell_mapping[cell_name]\n",
    "        cell_sams[cell_type].write(read)\n",
    "        \n",
    "for sam_file in cell_sams.values():\n",
    "    sam_file.close()"
   ]
  },
  {
   "cell_type": "code",
   "execution_count": 33,
   "metadata": {},
   "outputs": [],
   "source": [
    "for sam_file in cell_sams.values():\n",
    "    sam_file.close()"
   ]
  },
  {
   "cell_type": "code",
   "execution_count": 14,
   "metadata": {},
   "outputs": [
    {
     "data": {
      "text/plain": [
       "40"
      ]
     },
     "execution_count": 14,
     "metadata": {},
     "output_type": "execute_result"
    }
   ],
   "source": [
    "read.mapq"
   ]
  },
  {
   "cell_type": "code",
   "execution_count": 12,
   "metadata": {},
   "outputs": [
    {
     "data": {
      "text/plain": [
       "'chr1'"
      ]
     },
     "execution_count": 12,
     "metadata": {},
     "output_type": "execute_result"
    }
   ],
   "source": [
    "read.reference_name"
   ]
  },
  {
   "cell_type": "code",
   "execution_count": 17,
   "metadata": {},
   "outputs": [
    {
     "data": {
      "text/plain": [
       "'AGCGATAGGGAGCTACAAGGAGTAAGGCGAAG'"
      ]
     },
     "execution_count": 17,
     "metadata": {},
     "output_type": "execute_result"
    }
   ],
   "source": [
    "read.qname.split(':')[0]"
   ]
  },
  {
   "cell_type": "code",
   "execution_count": 6,
   "metadata": {},
   "outputs": [
    {
     "data": {
      "text/plain": [
       "['__class__',\n",
       " '__copy__',\n",
       " '__deepcopy__',\n",
       " '__delattr__',\n",
       " '__dir__',\n",
       " '__doc__',\n",
       " '__eq__',\n",
       " '__format__',\n",
       " '__ge__',\n",
       " '__getattribute__',\n",
       " '__gt__',\n",
       " '__hash__',\n",
       " '__init__',\n",
       " '__init_subclass__',\n",
       " '__le__',\n",
       " '__lt__',\n",
       " '__ne__',\n",
       " '__new__',\n",
       " '__pyx_vtable__',\n",
       " '__reduce__',\n",
       " '__reduce_ex__',\n",
       " '__repr__',\n",
       " '__setattr__',\n",
       " '__setstate__',\n",
       " '__sizeof__',\n",
       " '__str__',\n",
       " '__subclasshook__',\n",
       " 'aend',\n",
       " 'alen',\n",
       " 'aligned_pairs',\n",
       " 'bin',\n",
       " 'blocks',\n",
       " 'cigar',\n",
       " 'cigarstring',\n",
       " 'cigartuples',\n",
       " 'compare',\n",
       " 'flag',\n",
       " 'from_dict',\n",
       " 'fromstring',\n",
       " 'get_aligned_pairs',\n",
       " 'get_blocks',\n",
       " 'get_cigar_stats',\n",
       " 'get_forward_qualities',\n",
       " 'get_forward_sequence',\n",
       " 'get_overlap',\n",
       " 'get_reference_positions',\n",
       " 'get_reference_sequence',\n",
       " 'get_tag',\n",
       " 'get_tags',\n",
       " 'has_tag',\n",
       " 'header',\n",
       " 'infer_query_length',\n",
       " 'infer_read_length',\n",
       " 'inferred_length',\n",
       " 'is_duplicate',\n",
       " 'is_paired',\n",
       " 'is_proper_pair',\n",
       " 'is_qcfail',\n",
       " 'is_read1',\n",
       " 'is_read2',\n",
       " 'is_reverse',\n",
       " 'is_secondary',\n",
       " 'is_supplementary',\n",
       " 'is_unmapped',\n",
       " 'isize',\n",
       " 'mapping_quality',\n",
       " 'mapq',\n",
       " 'mate_is_reverse',\n",
       " 'mate_is_unmapped',\n",
       " 'mpos',\n",
       " 'mrnm',\n",
       " 'next_reference_id',\n",
       " 'next_reference_name',\n",
       " 'next_reference_start',\n",
       " 'opt',\n",
       " 'overlap',\n",
       " 'pnext',\n",
       " 'pos',\n",
       " 'positions',\n",
       " 'qend',\n",
       " 'qlen',\n",
       " 'qname',\n",
       " 'qqual',\n",
       " 'qstart',\n",
       " 'qual',\n",
       " 'query',\n",
       " 'query_alignment_end',\n",
       " 'query_alignment_length',\n",
       " 'query_alignment_qualities',\n",
       " 'query_alignment_sequence',\n",
       " 'query_alignment_start',\n",
       " 'query_length',\n",
       " 'query_name',\n",
       " 'query_qualities',\n",
       " 'query_sequence',\n",
       " 'reference_end',\n",
       " 'reference_id',\n",
       " 'reference_length',\n",
       " 'reference_name',\n",
       " 'reference_start',\n",
       " 'rlen',\n",
       " 'rname',\n",
       " 'rnext',\n",
       " 'seq',\n",
       " 'setTag',\n",
       " 'set_tag',\n",
       " 'set_tags',\n",
       " 'tags',\n",
       " 'template_length',\n",
       " 'tid',\n",
       " 'tlen',\n",
       " 'to_dict',\n",
       " 'to_string',\n",
       " 'tostring']"
      ]
     },
     "execution_count": 6,
     "metadata": {},
     "output_type": "execute_result"
    }
   ],
   "source": [
    "dir(read)\n"
   ]
  },
  {
   "cell_type": "code",
   "execution_count": 8,
   "metadata": {},
   "outputs": [
    {
     "data": {
      "text/plain": [
       "'chr1'"
      ]
     },
     "execution_count": 8,
     "metadata": {},
     "output_type": "execute_result"
    }
   ],
   "source": [
    "read.reference_name"
   ]
  },
  {
   "cell_type": "code",
   "execution_count": null,
   "metadata": {},
   "outputs": [],
   "source": []
  }
 ],
 "metadata": {
  "kernelspec": {
   "display_name": "bioinfo",
   "language": "python",
   "name": "bioinfo"
  },
  "language_info": {
   "codemirror_mode": {
    "name": "ipython",
    "version": 3
   },
   "file_extension": ".py",
   "mimetype": "text/x-python",
   "name": "python",
   "nbconvert_exporter": "python",
   "pygments_lexer": "ipython3",
   "version": "3.8.10"
  }
 },
 "nbformat": 4,
 "nbformat_minor": 4
}

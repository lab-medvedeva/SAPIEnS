{
 "cells": [
  {
   "cell_type": "code",
   "execution_count": 2,
   "metadata": {},
   "outputs": [],
   "source": [
    "import pandas as pd"
   ]
  },
  {
   "cell_type": "code",
   "execution_count": 3,
   "metadata": {},
   "outputs": [],
   "source": [
    "cell_types = [\n",
    "    'IN1',\n",
    "    'IN2',\n",
    "    'EX1',\n",
    "    'EX2',\n",
    "    'EX3',\n",
    "    'MG',\n",
    "    'OC',\n",
    "    'AC'\n",
    "]"
   ]
  },
  {
   "cell_type": "code",
   "execution_count": 4,
   "metadata": {},
   "outputs": [],
   "source": [
    "CELL_CONVERSIONS = [\n",
    "    ['IN2', 'EX1'],\n",
    "    ['EX1', 'EX2'],\n",
    "    ['EX2', 'EX3'],\n",
    "    ['IN2', 'MG'],\n",
    "    ['MG', 'IN1'],\n",
    "    ['IN1', 'OC'],\n",
    "    ['OC', 'AC']\n",
    "]"
   ]
  },
  {
   "cell_type": "code",
   "execution_count": 306,
   "metadata": {},
   "outputs": [],
   "source": [
    "cell_types = ['HSC', 'MPP', 'CMP', 'LMPP', 'CLP', 'pDC', 'GMP', 'MEP']"
   ]
  },
  {
   "cell_type": "code",
   "execution_count": 307,
   "metadata": {},
   "outputs": [],
   "source": [
    "CELL_CONVERSIONS = [\n",
    "    ['HSC', 'MPP'],\n",
    "    ['MPP', 'CMP'],\n",
    "    ['MPP', 'LMPP'],\n",
    "    ['LMPP', 'CLP'],\n",
    "    ['LMPP', 'pDC'],\n",
    "    ['CMP', 'GMP'],\n",
    "    ['CMP', 'MEP']\n",
    "]"
   ]
  },
  {
   "cell_type": "code",
   "execution_count": 5,
   "metadata": {},
   "outputs": [],
   "source": [
    "def get_conversion_string(types):\n",
    "    first, second = sorted(types)\n",
    "    return f'{first}_vs_{second}'"
   ]
  },
  {
   "cell_type": "code",
   "execution_count": 6,
   "metadata": {},
   "outputs": [],
   "source": [
    "def get_who(types, index):\n",
    "    return sorted(types)[index]"
   ]
  },
  {
   "cell_type": "code",
   "execution_count": 8,
   "metadata": {},
   "outputs": [
    {
     "name": "stdout",
     "output_type": "stream",
     "text": [
      "cicero_29999_all.csv\t\t      scale_29999_and_cicero_29999.csv\n",
      "cicero_29999.csv\t\t      scale_29999.csv\n",
      "cicero_29999.png\t\t      scale_29999.png\n",
      "cicero_29999_without_scale_29999.csv  scale_29999_without_cicero_29999.csv\n",
      "scale_29999_all.csv\n"
     ]
    }
   ],
   "source": [
    "!ls charts/forebrain/AC_vs_EX1/"
   ]
  },
  {
   "cell_type": "code",
   "execution_count": 9,
   "metadata": {},
   "outputs": [],
   "source": [
    "def print_stats(index):\n",
    "    print(f'{CELL_CONVERSIONS[index][0]} -> {CELL_CONVERSIONS[index][1]}')\n",
    "    df1 = pd.read_csv(f'charts/forebrain/{get_conversion_string(CELL_CONVERSIONS[index])}/scale_29999.csv', index_col='Motif')\n",
    "    df2 = pd.read_csv(f'charts/forebrain/{get_conversion_string(CELL_CONVERSIONS[index])}/cicero_29999.csv', index_col='Motif')\n",
    "    df2_a = df2.filter(regex='A$', axis=0)\n",
    "    df1_a = df1.filter(regex='A$', axis=0)\n",
    "    df1_without_2 = df1_a[~df1_a.index.isin(df2_a.index)]\n",
    "    df2_without_1 = df2_a[~df2_a.index.isin(df1_a.index)]\n",
    "    df_join = df1_a[df1_a.index.isin(df2_a.index)]\n",
    "    \n",
    "    print('First with second', df_join.shape[0])\n",
    "    print('Cicero vs raw:', df2_without_1.shape[0])\n",
    "    print('Raw vs cicero:', df1_without_2.shape[0])"
   ]
  },
  {
   "cell_type": "code",
   "execution_count": 10,
   "metadata": {},
   "outputs": [
    {
     "name": "stdout",
     "output_type": "stream",
     "text": [
      "IN2 -> EX1\n",
      "First with second 3\n",
      "Cicero vs raw: 4\n",
      "Raw vs cicero: 10\n"
     ]
    }
   ],
   "source": [
    "print_stats(0)"
   ]
  },
  {
   "cell_type": "code",
   "execution_count": 11,
   "metadata": {},
   "outputs": [
    {
     "name": "stdout",
     "output_type": "stream",
     "text": [
      "EX1 -> EX2\n",
      "First with second 3\n",
      "Cicero vs raw: 9\n",
      "Raw vs cicero: 11\n"
     ]
    }
   ],
   "source": [
    "print_stats(1)"
   ]
  },
  {
   "cell_type": "code",
   "execution_count": 12,
   "metadata": {},
   "outputs": [
    {
     "name": "stdout",
     "output_type": "stream",
     "text": [
      "EX2 -> EX3\n",
      "First with second 4\n",
      "Cicero vs raw: 7\n",
      "Raw vs cicero: 4\n"
     ]
    }
   ],
   "source": [
    "print_stats(2)"
   ]
  },
  {
   "cell_type": "code",
   "execution_count": 13,
   "metadata": {},
   "outputs": [
    {
     "name": "stdout",
     "output_type": "stream",
     "text": [
      "IN2 -> MG\n",
      "First with second 10\n",
      "Cicero vs raw: 10\n",
      "Raw vs cicero: 9\n"
     ]
    }
   ],
   "source": [
    "print_stats(3)"
   ]
  },
  {
   "cell_type": "code",
   "execution_count": 14,
   "metadata": {},
   "outputs": [
    {
     "name": "stdout",
     "output_type": "stream",
     "text": [
      "MG -> IN1\n",
      "First with second 11\n",
      "Cicero vs raw: 7\n",
      "Raw vs cicero: 6\n"
     ]
    }
   ],
   "source": [
    "print_stats(4)"
   ]
  },
  {
   "cell_type": "code",
   "execution_count": 15,
   "metadata": {},
   "outputs": [
    {
     "name": "stdout",
     "output_type": "stream",
     "text": [
      "IN1 -> OC\n",
      "First with second 9\n",
      "Cicero vs raw: 6\n",
      "Raw vs cicero: 4\n"
     ]
    }
   ],
   "source": [
    "print_stats(5)"
   ]
  },
  {
   "cell_type": "code",
   "execution_count": 16,
   "metadata": {},
   "outputs": [
    {
     "name": "stdout",
     "output_type": "stream",
     "text": [
      "OC -> AC\n",
      "First with second 3\n",
      "Cicero vs raw: 10\n",
      "Raw vs cicero: 6\n"
     ]
    }
   ],
   "source": [
    "print_stats(6)"
   ]
  },
  {
   "cell_type": "code",
   "execution_count": 158,
   "metadata": {},
   "outputs": [],
   "source": [
    "df1 = pd.read_csv(f'charts_hema/{get_conversion_string(CELL_CONVERSIONS[0])}/raw.csv', index_col='Motif')"
   ]
  },
  {
   "cell_type": "code",
   "execution_count": 161,
   "metadata": {},
   "outputs": [],
   "source": [
    "df2 = pd.read_csv(f'charts_hema/{get_conversion_string(CELL_CONVERSIONS[0])}/cicero_29999.csv', index_col='Motif')"
   ]
  },
  {
   "cell_type": "code",
   "execution_count": null,
   "metadata": {},
   "outputs": [],
   "source": [
    "df1 = pd.read_csv(f'charts/fore/{get_conversion_string(CELL_CONVERSIONS[0])}/raw.csv', index_col='Motif')"
   ]
  },
  {
   "cell_type": "code",
   "execution_count": 160,
   "metadata": {},
   "outputs": [
    {
     "data": {
      "text/plain": [
       "(44, 4)"
      ]
     },
     "execution_count": 160,
     "metadata": {},
     "output_type": "execute_result"
    }
   ],
   "source": [
    "df2.shape"
   ]
  },
  {
   "cell_type": "code",
   "execution_count": 162,
   "metadata": {},
   "outputs": [],
   "source": [
    "df2_a = df2.filter(regex='A$', axis=0)"
   ]
  },
  {
   "cell_type": "code",
   "execution_count": 163,
   "metadata": {},
   "outputs": [],
   "source": [
    "df1_a = df1.filter(regex='A$', axis=0)"
   ]
  },
  {
   "cell_type": "code",
   "execution_count": 164,
   "metadata": {},
   "outputs": [],
   "source": [
    "df_join = df1_a[df1_a.index.isin(df2_a.index)]"
   ]
  },
  {
   "cell_type": "code",
   "execution_count": 165,
   "metadata": {},
   "outputs": [
    {
     "data": {
      "text/plain": [
       "(7, 4)"
      ]
     },
     "execution_count": 165,
     "metadata": {},
     "output_type": "execute_result"
    }
   ],
   "source": [
    "df_join.shape"
   ]
  },
  {
   "cell_type": "code",
   "execution_count": 166,
   "metadata": {},
   "outputs": [],
   "source": [
    "df1_without_2 = df1_a[~df1_a.index.isin(df2_a.index)]"
   ]
  },
  {
   "cell_type": "code",
   "execution_count": 167,
   "metadata": {},
   "outputs": [
    {
     "data": {
      "text/plain": [
       "(6, 4)"
      ]
     },
     "execution_count": 167,
     "metadata": {},
     "output_type": "execute_result"
    }
   ],
   "source": [
    "df1_without_2.shape"
   ]
  },
  {
   "cell_type": "code",
   "execution_count": 168,
   "metadata": {},
   "outputs": [],
   "source": [
    "df2_without_1 = df2_a[~df2_a.index.isin(df1_a.index)]"
   ]
  },
  {
   "cell_type": "code",
   "execution_count": 169,
   "metadata": {},
   "outputs": [
    {
     "data": {
      "text/plain": [
       "(13, 4)"
      ]
     },
     "execution_count": 169,
     "metadata": {},
     "output_type": "execute_result"
    }
   ],
   "source": [
    "df2_without_1.shape"
   ]
  },
  {
   "cell_type": "code",
   "execution_count": 150,
   "metadata": {},
   "outputs": [
    {
     "data": {
      "text/html": [
       "<div>\n",
       "<style scoped>\n",
       "    .dataframe tbody tr th:only-of-type {\n",
       "        vertical-align: middle;\n",
       "    }\n",
       "\n",
       "    .dataframe tbody tr th {\n",
       "        vertical-align: top;\n",
       "    }\n",
       "\n",
       "    .dataframe thead th {\n",
       "        text-align: right;\n",
       "    }\n",
       "</style>\n",
       "<table border=\"1\" class=\"dataframe\">\n",
       "  <thead>\n",
       "    <tr style=\"text-align: right;\">\n",
       "      <th></th>\n",
       "      <th>score</th>\n",
       "      <th>x</th>\n",
       "      <th>p_value</th>\n",
       "      <th>significant</th>\n",
       "    </tr>\n",
       "    <tr>\n",
       "      <th>Motif</th>\n",
       "      <th></th>\n",
       "      <th></th>\n",
       "      <th></th>\n",
       "      <th></th>\n",
       "    </tr>\n",
       "  </thead>\n",
       "  <tbody>\n",
       "    <tr>\n",
       "      <th>CREB1_HUMAN.H11MO.0.A</th>\n",
       "      <td>0.108589</td>\n",
       "      <td>-0.261589</td>\n",
       "      <td>0.011917</td>\n",
       "      <td>Yes</td>\n",
       "    </tr>\n",
       "    <tr>\n",
       "      <th>IRF2_HUMAN.H11MO.0.A</th>\n",
       "      <td>0.096343</td>\n",
       "      <td>0.265267</td>\n",
       "      <td>0.026048</td>\n",
       "      <td>Yes</td>\n",
       "    </tr>\n",
       "    <tr>\n",
       "      <th>NFYB_HUMAN.H11MO.0.A</th>\n",
       "      <td>0.172595</td>\n",
       "      <td>-0.480451</td>\n",
       "      <td>0.000057</td>\n",
       "      <td>Yes</td>\n",
       "    </tr>\n",
       "  </tbody>\n",
       "</table>\n",
       "</div>"
      ],
      "text/plain": [
       "                          score         x   p_value significant\n",
       "Motif                                                          \n",
       "CREB1_HUMAN.H11MO.0.A  0.108589 -0.261589  0.011917         Yes\n",
       "IRF2_HUMAN.H11MO.0.A   0.096343  0.265267  0.026048         Yes\n",
       "NFYB_HUMAN.H11MO.0.A   0.172595 -0.480451  0.000057         Yes"
      ]
     },
     "execution_count": 150,
     "metadata": {},
     "output_type": "execute_result"
    }
   ],
   "source": [
    "df1_a[df1_a.index.isin(df2_a.index)].sort_index()"
   ]
  },
  {
   "cell_type": "code",
   "execution_count": 151,
   "metadata": {},
   "outputs": [
    {
     "data": {
      "text/html": [
       "<div>\n",
       "<style scoped>\n",
       "    .dataframe tbody tr th:only-of-type {\n",
       "        vertical-align: middle;\n",
       "    }\n",
       "\n",
       "    .dataframe tbody tr th {\n",
       "        vertical-align: top;\n",
       "    }\n",
       "\n",
       "    .dataframe thead th {\n",
       "        text-align: right;\n",
       "    }\n",
       "</style>\n",
       "<table border=\"1\" class=\"dataframe\">\n",
       "  <thead>\n",
       "    <tr style=\"text-align: right;\">\n",
       "      <th></th>\n",
       "      <th>score</th>\n",
       "      <th>x</th>\n",
       "      <th>p_value</th>\n",
       "      <th>significant</th>\n",
       "    </tr>\n",
       "    <tr>\n",
       "      <th>Motif</th>\n",
       "      <th></th>\n",
       "      <th></th>\n",
       "      <th></th>\n",
       "      <th></th>\n",
       "    </tr>\n",
       "  </thead>\n",
       "  <tbody>\n",
       "    <tr>\n",
       "      <th>CREB1_HUMAN.H11MO.0.A</th>\n",
       "      <td>0.140476</td>\n",
       "      <td>0.313688</td>\n",
       "      <td>0.000002</td>\n",
       "      <td>Yes</td>\n",
       "    </tr>\n",
       "    <tr>\n",
       "      <th>IRF2_HUMAN.H11MO.0.A</th>\n",
       "      <td>0.079367</td>\n",
       "      <td>-0.002820</td>\n",
       "      <td>0.008752</td>\n",
       "      <td>Yes</td>\n",
       "    </tr>\n",
       "    <tr>\n",
       "      <th>NFYB_HUMAN.H11MO.0.A</th>\n",
       "      <td>0.066458</td>\n",
       "      <td>-0.322342</td>\n",
       "      <td>0.030191</td>\n",
       "      <td>Yes</td>\n",
       "    </tr>\n",
       "  </tbody>\n",
       "</table>\n",
       "</div>"
      ],
      "text/plain": [
       "                          score         x   p_value significant\n",
       "Motif                                                          \n",
       "CREB1_HUMAN.H11MO.0.A  0.140476  0.313688  0.000002         Yes\n",
       "IRF2_HUMAN.H11MO.0.A   0.079367 -0.002820  0.008752         Yes\n",
       "NFYB_HUMAN.H11MO.0.A   0.066458 -0.322342  0.030191         Yes"
      ]
     },
     "execution_count": 151,
     "metadata": {},
     "output_type": "execute_result"
    }
   ],
   "source": [
    "df2_a[df2_a.index.isin(df1_a.index)].sort_index()"
   ]
  },
  {
   "cell_type": "code",
   "execution_count": 152,
   "metadata": {},
   "outputs": [
    {
     "data": {
      "text/html": [
       "<div>\n",
       "<style scoped>\n",
       "    .dataframe tbody tr th:only-of-type {\n",
       "        vertical-align: middle;\n",
       "    }\n",
       "\n",
       "    .dataframe tbody tr th {\n",
       "        vertical-align: top;\n",
       "    }\n",
       "\n",
       "    .dataframe thead th {\n",
       "        text-align: right;\n",
       "    }\n",
       "</style>\n",
       "<table border=\"1\" class=\"dataframe\">\n",
       "  <thead>\n",
       "    <tr style=\"text-align: right;\">\n",
       "      <th></th>\n",
       "      <th>score</th>\n",
       "      <th>x</th>\n",
       "      <th>p_value</th>\n",
       "      <th>significant</th>\n",
       "    </tr>\n",
       "    <tr>\n",
       "      <th>Motif</th>\n",
       "      <th></th>\n",
       "      <th></th>\n",
       "      <th></th>\n",
       "      <th></th>\n",
       "    </tr>\n",
       "  </thead>\n",
       "  <tbody>\n",
       "    <tr>\n",
       "      <th>PPARG_HUMAN.H11MO.0.A</th>\n",
       "      <td>-0.105890</td>\n",
       "      <td>-0.194377</td>\n",
       "      <td>0.010815</td>\n",
       "      <td>Yes</td>\n",
       "    </tr>\n",
       "    <tr>\n",
       "      <th>COE1_HUMAN.H11MO.0.A</th>\n",
       "      <td>-0.085549</td>\n",
       "      <td>-0.224499</td>\n",
       "      <td>0.038598</td>\n",
       "      <td>Yes</td>\n",
       "    </tr>\n",
       "    <tr>\n",
       "      <th>PBX3_HUMAN.H11MO.1.A</th>\n",
       "      <td>0.104582</td>\n",
       "      <td>0.027799</td>\n",
       "      <td>0.015521</td>\n",
       "      <td>Yes</td>\n",
       "    </tr>\n",
       "    <tr>\n",
       "      <th>FOSL1_HUMAN.H11MO.0.A</th>\n",
       "      <td>0.151855</td>\n",
       "      <td>-0.320268</td>\n",
       "      <td>0.000406</td>\n",
       "      <td>Yes</td>\n",
       "    </tr>\n",
       "  </tbody>\n",
       "</table>\n",
       "</div>"
      ],
      "text/plain": [
       "                          score         x   p_value significant\n",
       "Motif                                                          \n",
       "PPARG_HUMAN.H11MO.0.A -0.105890 -0.194377  0.010815         Yes\n",
       "COE1_HUMAN.H11MO.0.A  -0.085549 -0.224499  0.038598         Yes\n",
       "PBX3_HUMAN.H11MO.1.A   0.104582  0.027799  0.015521         Yes\n",
       "FOSL1_HUMAN.H11MO.0.A  0.151855 -0.320268  0.000406         Yes"
      ]
     },
     "execution_count": 152,
     "metadata": {},
     "output_type": "execute_result"
    }
   ],
   "source": [
    "df1_a[~df1_a.index.isin(df2_a.index)]"
   ]
  },
  {
   "cell_type": "code",
   "execution_count": 153,
   "metadata": {},
   "outputs": [
    {
     "data": {
      "text/html": [
       "<div>\n",
       "<style scoped>\n",
       "    .dataframe tbody tr th:only-of-type {\n",
       "        vertical-align: middle;\n",
       "    }\n",
       "\n",
       "    .dataframe tbody tr th {\n",
       "        vertical-align: top;\n",
       "    }\n",
       "\n",
       "    .dataframe thead th {\n",
       "        text-align: right;\n",
       "    }\n",
       "</style>\n",
       "<table border=\"1\" class=\"dataframe\">\n",
       "  <thead>\n",
       "    <tr style=\"text-align: right;\">\n",
       "      <th></th>\n",
       "      <th>score</th>\n",
       "      <th>x</th>\n",
       "      <th>p_value</th>\n",
       "      <th>significant</th>\n",
       "    </tr>\n",
       "    <tr>\n",
       "      <th>Motif</th>\n",
       "      <th></th>\n",
       "      <th></th>\n",
       "      <th></th>\n",
       "      <th></th>\n",
       "    </tr>\n",
       "  </thead>\n",
       "  <tbody>\n",
       "    <tr>\n",
       "      <th>USF1_HUMAN.H11MO.0.A</th>\n",
       "      <td>0.065551</td>\n",
       "      <td>-0.384326</td>\n",
       "      <td>0.032706</td>\n",
       "      <td>Yes</td>\n",
       "    </tr>\n",
       "    <tr>\n",
       "      <th>SPIB_HUMAN.H11MO.0.A</th>\n",
       "      <td>0.063540</td>\n",
       "      <td>-0.059472</td>\n",
       "      <td>0.038931</td>\n",
       "      <td>Yes</td>\n",
       "    </tr>\n",
       "    <tr>\n",
       "      <th>MYCN_HUMAN.H11MO.0.A</th>\n",
       "      <td>-0.051477</td>\n",
       "      <td>-0.040674</td>\n",
       "      <td>0.047657</td>\n",
       "      <td>Yes</td>\n",
       "    </tr>\n",
       "    <tr>\n",
       "      <th>KLF4_HUMAN.H11MO.0.A</th>\n",
       "      <td>0.070493</td>\n",
       "      <td>0.070295</td>\n",
       "      <td>0.020918</td>\n",
       "      <td>Yes</td>\n",
       "    </tr>\n",
       "    <tr>\n",
       "      <th>ATF3_HUMAN.H11MO.0.A</th>\n",
       "      <td>0.073841</td>\n",
       "      <td>-0.485401</td>\n",
       "      <td>0.015215</td>\n",
       "      <td>Yes</td>\n",
       "    </tr>\n",
       "    <tr>\n",
       "      <th>NRF1_HUMAN.H11MO.0.A</th>\n",
       "      <td>0.087865</td>\n",
       "      <td>0.245864</td>\n",
       "      <td>0.003495</td>\n",
       "      <td>Yes</td>\n",
       "    </tr>\n",
       "    <tr>\n",
       "      <th>E2F4_HUMAN.H11MO.0.A</th>\n",
       "      <td>0.106604</td>\n",
       "      <td>0.408132</td>\n",
       "      <td>0.000344</td>\n",
       "      <td>Yes</td>\n",
       "    </tr>\n",
       "    <tr>\n",
       "      <th>RUNX3_HUMAN.H11MO.0.A</th>\n",
       "      <td>0.069731</td>\n",
       "      <td>-0.433989</td>\n",
       "      <td>0.022449</td>\n",
       "      <td>Yes</td>\n",
       "    </tr>\n",
       "    <tr>\n",
       "      <th>ELF1_HUMAN.H11MO.0.A</th>\n",
       "      <td>0.070863</td>\n",
       "      <td>-0.399790</td>\n",
       "      <td>0.020206</td>\n",
       "      <td>Yes</td>\n",
       "    </tr>\n",
       "    <tr>\n",
       "      <th>GABPA_HUMAN.H11MO.0.A</th>\n",
       "      <td>0.112950</td>\n",
       "      <td>-0.258183</td>\n",
       "      <td>0.000143</td>\n",
       "      <td>Yes</td>\n",
       "    </tr>\n",
       "    <tr>\n",
       "      <th>NFYC_HUMAN.H11MO.0.A</th>\n",
       "      <td>0.072510</td>\n",
       "      <td>0.264949</td>\n",
       "      <td>0.017293</td>\n",
       "      <td>Yes</td>\n",
       "    </tr>\n",
       "    <tr>\n",
       "      <th>NFYA_HUMAN.H11MO.0.A</th>\n",
       "      <td>0.137609</td>\n",
       "      <td>0.149899</td>\n",
       "      <td>0.000003</td>\n",
       "      <td>Yes</td>\n",
       "    </tr>\n",
       "    <tr>\n",
       "      <th>RUNX2_HUMAN.H11MO.0.A</th>\n",
       "      <td>0.063431</td>\n",
       "      <td>0.114635</td>\n",
       "      <td>0.039295</td>\n",
       "      <td>Yes</td>\n",
       "    </tr>\n",
       "    <tr>\n",
       "      <th>GATA2_HUMAN.H11MO.1.A</th>\n",
       "      <td>-0.063250</td>\n",
       "      <td>0.326227</td>\n",
       "      <td>0.016642</td>\n",
       "      <td>Yes</td>\n",
       "    </tr>\n",
       "    <tr>\n",
       "      <th>PBX3_HUMAN.H11MO.0.A</th>\n",
       "      <td>0.066688</td>\n",
       "      <td>-0.202494</td>\n",
       "      <td>0.029581</td>\n",
       "      <td>Yes</td>\n",
       "    </tr>\n",
       "    <tr>\n",
       "      <th>FLI1_HUMAN.H11MO.1.A</th>\n",
       "      <td>0.066224</td>\n",
       "      <td>0.338622</td>\n",
       "      <td>0.030826</td>\n",
       "      <td>Yes</td>\n",
       "    </tr>\n",
       "    <tr>\n",
       "      <th>ETV1_HUMAN.H11MO.0.A</th>\n",
       "      <td>0.061469</td>\n",
       "      <td>0.290100</td>\n",
       "      <td>0.046363</td>\n",
       "      <td>Yes</td>\n",
       "    </tr>\n",
       "  </tbody>\n",
       "</table>\n",
       "</div>"
      ],
      "text/plain": [
       "                          score         x   p_value significant\n",
       "Motif                                                          \n",
       "USF1_HUMAN.H11MO.0.A   0.065551 -0.384326  0.032706         Yes\n",
       "SPIB_HUMAN.H11MO.0.A   0.063540 -0.059472  0.038931         Yes\n",
       "MYCN_HUMAN.H11MO.0.A  -0.051477 -0.040674  0.047657         Yes\n",
       "KLF4_HUMAN.H11MO.0.A   0.070493  0.070295  0.020918         Yes\n",
       "ATF3_HUMAN.H11MO.0.A   0.073841 -0.485401  0.015215         Yes\n",
       "NRF1_HUMAN.H11MO.0.A   0.087865  0.245864  0.003495         Yes\n",
       "E2F4_HUMAN.H11MO.0.A   0.106604  0.408132  0.000344         Yes\n",
       "RUNX3_HUMAN.H11MO.0.A  0.069731 -0.433989  0.022449         Yes\n",
       "ELF1_HUMAN.H11MO.0.A   0.070863 -0.399790  0.020206         Yes\n",
       "GABPA_HUMAN.H11MO.0.A  0.112950 -0.258183  0.000143         Yes\n",
       "NFYC_HUMAN.H11MO.0.A   0.072510  0.264949  0.017293         Yes\n",
       "NFYA_HUMAN.H11MO.0.A   0.137609  0.149899  0.000003         Yes\n",
       "RUNX2_HUMAN.H11MO.0.A  0.063431  0.114635  0.039295         Yes\n",
       "GATA2_HUMAN.H11MO.1.A -0.063250  0.326227  0.016642         Yes\n",
       "PBX3_HUMAN.H11MO.0.A   0.066688 -0.202494  0.029581         Yes\n",
       "FLI1_HUMAN.H11MO.1.A   0.066224  0.338622  0.030826         Yes\n",
       "ETV1_HUMAN.H11MO.0.A   0.061469  0.290100  0.046363         Yes"
      ]
     },
     "execution_count": 153,
     "metadata": {},
     "output_type": "execute_result"
    }
   ],
   "source": [
    "df2_a[~df2_a.index.isin(df1_a.index)]"
   ]
  },
  {
   "cell_type": "code",
   "execution_count": 34,
   "metadata": {},
   "outputs": [
    {
     "data": {
      "text/plain": [
       "array([False, False, False, False, False, False, False, False, False,\n",
       "       False, False, False, False, False, False, False, False, False,\n",
       "       False, False, False, False, False, False, False, False, False])"
      ]
     },
     "execution_count": 34,
     "metadata": {},
     "output_type": "execute_result"
    }
   ],
   "source": [
    "df1_a.index.isin(df2_a)"
   ]
  },
  {
   "cell_type": "code",
   "execution_count": 7,
   "metadata": {},
   "outputs": [],
   "source": [
    "df2 = pd.read_csv('charts_hema/CLP_vs_CMP/cicero_29999.csv', index_col='Motif')"
   ]
  },
  {
   "cell_type": "code",
   "execution_count": 28,
   "metadata": {},
   "outputs": [
    {
     "data": {
      "text/html": [
       "<div>\n",
       "<style scoped>\n",
       "    .dataframe tbody tr th:only-of-type {\n",
       "        vertical-align: middle;\n",
       "    }\n",
       "\n",
       "    .dataframe tbody tr th {\n",
       "        vertical-align: top;\n",
       "    }\n",
       "\n",
       "    .dataframe thead th {\n",
       "        text-align: right;\n",
       "    }\n",
       "</style>\n",
       "<table border=\"1\" class=\"dataframe\">\n",
       "  <thead>\n",
       "    <tr style=\"text-align: right;\">\n",
       "      <th></th>\n",
       "      <th>score</th>\n",
       "      <th>x</th>\n",
       "      <th>p_value</th>\n",
       "      <th>significant</th>\n",
       "    </tr>\n",
       "    <tr>\n",
       "      <th>Motif</th>\n",
       "      <th></th>\n",
       "      <th></th>\n",
       "      <th></th>\n",
       "      <th></th>\n",
       "    </tr>\n",
       "  </thead>\n",
       "  <tbody>\n",
       "    <tr>\n",
       "      <th>NFYB_HUMAN.H11MO.0.A</th>\n",
       "      <td>-0.080923</td>\n",
       "      <td>0.442376</td>\n",
       "      <td>0.000849</td>\n",
       "      <td>Yes</td>\n",
       "    </tr>\n",
       "    <tr>\n",
       "      <th>KAISO_HUMAN.H11MO.1.A</th>\n",
       "      <td>-0.106568</td>\n",
       "      <td>-0.281980</td>\n",
       "      <td>0.000014</td>\n",
       "      <td>Yes</td>\n",
       "    </tr>\n",
       "    <tr>\n",
       "      <th>SNAI2_HUMAN.H11MO.0.A</th>\n",
       "      <td>-0.046397</td>\n",
       "      <td>0.277871</td>\n",
       "      <td>0.048070</td>\n",
       "      <td>Yes</td>\n",
       "    </tr>\n",
       "    <tr>\n",
       "      <th>KAISO_HUMAN.H11MO.0.A</th>\n",
       "      <td>-0.056042</td>\n",
       "      <td>0.066263</td>\n",
       "      <td>0.018447</td>\n",
       "      <td>Yes</td>\n",
       "    </tr>\n",
       "    <tr>\n",
       "      <th>PBX3_HUMAN.H11MO.1.A</th>\n",
       "      <td>-0.051162</td>\n",
       "      <td>-0.078047</td>\n",
       "      <td>0.030435</td>\n",
       "      <td>Yes</td>\n",
       "    </tr>\n",
       "    <tr>\n",
       "      <th>GATA2_HUMAN.H11MO.1.A</th>\n",
       "      <td>-0.074373</td>\n",
       "      <td>-0.457429</td>\n",
       "      <td>0.002081</td>\n",
       "      <td>Yes</td>\n",
       "    </tr>\n",
       "    <tr>\n",
       "      <th>ASCL1_HUMAN.H11MO.0.A</th>\n",
       "      <td>-0.048465</td>\n",
       "      <td>0.313492</td>\n",
       "      <td>0.039574</td>\n",
       "      <td>Yes</td>\n",
       "    </tr>\n",
       "    <tr>\n",
       "      <th>HTF4_HUMAN.H11MO.0.A</th>\n",
       "      <td>-0.051215</td>\n",
       "      <td>0.430475</td>\n",
       "      <td>0.030278</td>\n",
       "      <td>Yes</td>\n",
       "    </tr>\n",
       "  </tbody>\n",
       "</table>\n",
       "</div>"
      ],
      "text/plain": [
       "                          score         x   p_value significant\n",
       "Motif                                                          \n",
       "NFYB_HUMAN.H11MO.0.A  -0.080923  0.442376  0.000849         Yes\n",
       "KAISO_HUMAN.H11MO.1.A -0.106568 -0.281980  0.000014         Yes\n",
       "SNAI2_HUMAN.H11MO.0.A -0.046397  0.277871  0.048070         Yes\n",
       "KAISO_HUMAN.H11MO.0.A -0.056042  0.066263  0.018447         Yes\n",
       "PBX3_HUMAN.H11MO.1.A  -0.051162 -0.078047  0.030435         Yes\n",
       "GATA2_HUMAN.H11MO.1.A -0.074373 -0.457429  0.002081         Yes\n",
       "ASCL1_HUMAN.H11MO.0.A -0.048465  0.313492  0.039574         Yes\n",
       "HTF4_HUMAN.H11MO.0.A  -0.051215  0.430475  0.030278         Yes"
      ]
     },
     "execution_count": 28,
     "metadata": {},
     "output_type": "execute_result"
    }
   ],
   "source": [
    "df2[df2['score'] < 0].filter(regex='A$', axis=0)"
   ]
  },
  {
   "cell_type": "code",
   "execution_count": 13,
   "metadata": {},
   "outputs": [],
   "source": [
    "df_all = pd.read_csv('../cicero_data/forebrain_raw, sep='\\t', index_col='Motif')"
   ]
  },
  {
   "cell_type": "code",
   "execution_count": 15,
   "metadata": {},
   "outputs": [
    {
     "data": {
      "text/plain": [
       "Index(['NGN2_HUMAN.H11MO.0.D', 'RORG_HUMAN.H11MO.0.C', 'NFIA_HUMAN.H11MO.1.D',\n",
       "       'CREB5_HUMAN.H11MO.0.D', 'Z324A_HUMAN.H11MO.0.C',\n",
       "       'NR1H2_HUMAN.H11MO.0.D', 'PO4F2_HUMAN.H11MO.0.D',\n",
       "       'ATF6A_HUMAN.H11MO.0.B', 'E2F5_HUMAN.H11MO.0.B', 'UNC4_HUMAN.H11MO.0.D',\n",
       "       ...\n",
       "       'VSX2_HUMAN.H11MO.0.D', 'GMEB2_HUMAN.H11MO.0.D', 'JUN_HUMAN.H11MO.0.A',\n",
       "       'HXD13_HUMAN.H11MO.0.D', 'MLX_HUMAN.H11MO.0.D', 'TYY2_HUMAN.H11MO.0.D',\n",
       "       'PO5F1_HUMAN.H11MO.1.A', 'ZN547_HUMAN.H11MO.0.C',\n",
       "       'STAT1_HUMAN.H11MO.1.A', 'GATA3_HUMAN.H11MO.0.A'],\n",
       "      dtype='object', name='Motif', length=768)"
      ]
     },
     "execution_count": 15,
     "metadata": {},
     "output_type": "execute_result"
    }
   ],
   "source": [
    "df_all.index"
   ]
  },
  {
   "cell_type": "code",
   "execution_count": 17,
   "metadata": {},
   "outputs": [],
   "source": [
    "from collections import defaultdict"
   ]
  },
  {
   "cell_type": "code",
   "execution_count": 302,
   "metadata": {},
   "outputs": [],
   "source": [
    "motifs_significance = defaultdict(list)\n",
    "experiment_name = 'raw.csv'\n",
    "for motif in df_all.filter(regex='A$', axis=0).index:\n",
    "    for types in CELL_CONVERSIONS:\n",
    "        df = pd.read_csv(f'charts_hema/{get_conversion_string(types)}/{experiment_name}', index_col='Motif')\n",
    "        filtered_motifs = df[df.index == motif]\n",
    "        if len(filtered_motifs) > 0:\n",
    "            score = df.loc[motif].score\n",
    "            if score > 0:\n",
    "                motifs_significance[motif].append({\n",
    "                    'type': get_conversion_string(types),\n",
    "                    'who': get_who(types, 1)\n",
    "                })\n",
    "            else:\n",
    "                motifs_significance[motif].append({\n",
    "                    'type': get_conversion_string(types),\n",
    "                    'who': get_who(types, 0)\n",
    "                })"
   ]
  },
  {
   "cell_type": "code",
   "execution_count": 280,
   "metadata": {},
   "outputs": [
    {
     "data": {
      "text/plain": [
       "[{'type': 'HSC_vs_MPP', 'who': 'HSC'}, {'type': 'LMPP_vs_MPP', 'who': 'MPP'}]"
      ]
     },
     "execution_count": 280,
     "metadata": {},
     "output_type": "execute_result"
    }
   ],
   "source": [
    "motifs_significance['JUND_HUMAN.H11MO.0.A']"
   ]
  },
  {
   "cell_type": "code",
   "execution_count": 291,
   "metadata": {},
   "outputs": [],
   "source": [
    "def get_significant_motifs(motif):\n",
    "    conversions = motifs_significance[motif]\n",
    "    conversion_results = []\n",
    "    nodes = set()\n",
    "    conversions_ = []\n",
    "    for conversion in conversions:\n",
    "        conversion_name = conversion['type']\n",
    "        node = conversion['who']\n",
    "        for conv in CELL_CONVERSIONS:\n",
    "            if get_conversion_string(conv) == conversion_name:\n",
    "                conversions_.append(conv)\n",
    "                nodes.add(node)\n",
    "    return conversions_, nodes"
   ]
  },
  {
   "cell_type": "code",
   "execution_count": 292,
   "metadata": {},
   "outputs": [],
   "source": [
    "convs, nodes = get_significant_motifs('JUND_HUMAN.H11MO.0.A')"
   ]
  },
  {
   "cell_type": "code",
   "execution_count": 293,
   "metadata": {},
   "outputs": [
    {
     "data": {
      "text/plain": [
       "[['HSC', 'MPP'], ['MPP', 'LMPP']]"
      ]
     },
     "execution_count": 293,
     "metadata": {},
     "output_type": "execute_result"
    }
   ],
   "source": [
    "convs"
   ]
  },
  {
   "cell_type": "code",
   "execution_count": 239,
   "metadata": {},
   "outputs": [],
   "source": [
    "from graphviz import Digraph"
   ]
  },
  {
   "cell_type": "code",
   "execution_count": 303,
   "metadata": {},
   "outputs": [],
   "source": [
    "!mkdir dot_charts/raw"
   ]
  },
  {
   "cell_type": "code",
   "execution_count": 304,
   "metadata": {},
   "outputs": [],
   "source": [
    "for motif in motifs_significance.keys():\n",
    "    convs, nodes = get_significant_motifs(motif)\n",
    "    dot = Digraph(comment='Conversion type')\n",
    "\n",
    "    for cell_type in cell_types:\n",
    "        if cell_type in nodes:\n",
    "            dot.node(cell_type, color='red')\n",
    "        else:\n",
    "            dot.node(cell_type)\n",
    "\n",
    "    for conversion in CELL_CONVERSIONS:\n",
    "        if conversion in convs:\n",
    "            dot.edge(conversion[0], conversion[1], color='blue')\n",
    "        else:\n",
    "            dot.edge(conversion[0], conversion[1])\n",
    "            \n",
    "    dot.render(f'dot_charts/raw/{motif}.gv')"
   ]
  },
  {
   "cell_type": "code",
   "execution_count": 297,
   "metadata": {},
   "outputs": [],
   "source": [
    "dot = Digraph(comment='Conversion type')\n",
    "\n",
    "for cell_type in cell_types:\n",
    "    if cell_type in nodes:\n",
    "        dot.node(cell_type, color='red')\n",
    "    else:\n",
    "        dot.node(cell_type)\n",
    "    \n",
    "for conversion in CELL_CONVERSIONS:\n",
    "    if conversion in convs:\n",
    "        dot.edge(conversion[0], conversion[1], color='blue')\n",
    "    else:\n",
    "        dot.edge(conversion[0], conversion[1])"
   ]
  },
  {
   "cell_type": "code",
   "execution_count": 298,
   "metadata": {},
   "outputs": [
    {
     "data": {
      "text/plain": [
       "'test.gv.pdf'"
      ]
     },
     "execution_count": 298,
     "metadata": {},
     "output_type": "execute_result"
    }
   ],
   "source": [
    "dot.render('test.gv', view=True)  "
   ]
  },
  {
   "cell_type": "code",
   "execution_count": null,
   "metadata": {},
   "outputs": [],
   "source": []
  }
 ],
 "metadata": {
  "kernelspec": {
   "display_name": "bioinfo",
   "language": "python",
   "name": "bioinfo"
  },
  "language_info": {
   "codemirror_mode": {
    "name": "ipython",
    "version": 3
   },
   "file_extension": ".py",
   "mimetype": "text/x-python",
   "name": "python",
   "nbconvert_exporter": "python",
   "pygments_lexer": "ipython3",
   "version": "3.7.10"
  }
 },
 "nbformat": 4,
 "nbformat_minor": 4
}

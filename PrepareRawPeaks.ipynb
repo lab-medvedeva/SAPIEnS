{
 "cells": [
  {
   "cell_type": "code",
   "execution_count": 1,
   "metadata": {},
   "outputs": [],
   "source": [
    "import pandas as pd"
   ]
  },
  {
   "cell_type": "code",
   "execution_count": 7,
   "metadata": {},
   "outputs": [],
   "source": [
    "from scale.dataset import read_csv"
   ]
  },
  {
   "cell_type": "code",
   "execution_count": 5,
   "metadata": {},
   "outputs": [],
   "source": [
    "labels = pd.read_csv('../count_matrix_data/GSE96769_cell_names_matrix.csv', sep=',').set_index('cell_id')\n",
    "# count, feature, barcode = read_mtx('mouse_atlas_cicero')\n",
    "cell_types = labels['cell_types'].unique()\n",
    "cell_barcodes = {}\n",
    "for cell_type in cell_types:\n",
    "    cell_barcodes[cell_type] = list(labels[labels['cell_types'] == cell_type].index)"
   ]
  },
  {
   "cell_type": "code",
   "execution_count": 26,
   "metadata": {},
   "outputs": [],
   "source": [
    "count, feature, barcode = read_csv('../count_matrix_data/GSE96769_scATACseq_matrix.csv')"
   ]
  },
  {
   "cell_type": "code",
   "execution_count": 27,
   "metadata": {},
   "outputs": [],
   "source": [
    "names_to_index = {\n",
    "    code: index for index, code in enumerate(barcode)\n",
    "}"
   ]
  },
  {
   "cell_type": "code",
   "execution_count": 34,
   "metadata": {},
   "outputs": [
    {
     "data": {
      "text/plain": [
       "'cell_482'"
      ]
     },
     "execution_count": 34,
     "metadata": {},
     "output_type": "execute_result"
    }
   ],
   "source": [
    "barcode[481]"
   ]
  },
  {
   "cell_type": "code",
   "execution_count": 35,
   "metadata": {},
   "outputs": [
    {
     "data": {
      "text/plain": [
       "(2953, 2)"
      ]
     },
     "execution_count": 35,
     "metadata": {},
     "output_type": "execute_result"
    }
   ],
   "source": [
    "labels.shape"
   ]
  },
  {
   "cell_type": "code",
   "execution_count": 37,
   "metadata": {},
   "outputs": [
    {
     "data": {
      "text/plain": [
       "(2947, 489671)"
      ]
     },
     "execution_count": 37,
     "metadata": {},
     "output_type": "execute_result"
    }
   ],
   "source": [
    "count.shape"
   ]
  },
  {
   "cell_type": "code",
   "execution_count": 38,
   "metadata": {},
   "outputs": [],
   "source": [
    "def get_names(cell_names):\n",
    "    return [\n",
    "        names_to_index[code] for code in cell_names if code in names_to_index\n",
    "    ]"
   ]
  },
  {
   "cell_type": "code",
   "execution_count": 46,
   "metadata": {},
   "outputs": [],
   "source": [
    "import os"
   ]
  },
  {
   "cell_type": "code",
   "execution_count": 47,
   "metadata": {},
   "outputs": [],
   "source": [
    "os.makedirs('hemato_data')"
   ]
  },
  {
   "cell_type": "code",
   "execution_count": 50,
   "metadata": {},
   "outputs": [
    {
     "name": "stdout",
     "output_type": "stream",
     "text": [
      "HSC: 26.0\n",
      "HSC: filtered 30629\n",
      "MPP: 8.0\n",
      "MPP: filtered 30583\n",
      "LMPP: 11.0\n",
      "LMPP: filtered 30688\n",
      "CMP: 52.0\n",
      "CMP: filtered 30479\n",
      "CLP: 4.0\n",
      "CLP: filtered 36723\n",
      "MEP: 21.0\n",
      "MEP: filtered 31309\n",
      "GMP: 17.0\n",
      "GMP: filtered 30957\n",
      "pDC: 14.0\n",
      "pDC: filtered 30935\n",
      "Monocyte: 7.0\n",
      "Monocyte: filtered 31068\n",
      "UNK: 7.0\n",
      "UNK: filtered 34559\n",
      "GMP-3: 4.0\n",
      "GMP-3: filtered 30978\n",
      "GMP-2: 5.0\n",
      "GMP-2: filtered 36634\n",
      "GMP-1: 9.0\n",
      "GMP-1: filtered 30784\n"
     ]
    }
   ],
   "source": [
    "import numpy as np\n",
    "\n",
    "for cell_type, code in cell_barcodes.items():\n",
    "    cell_by_feature = np.asarray(count[get_names(code)].sum(axis=0)).flatten()\n",
    "    feature_threshold = cell_by_feature[np.argsort(cell_by_feature)[-30000]]\n",
    "    print(f'{cell_type}: {feature_threshold}')\n",
    "    filtered_features = (cell_by_feature > 0) & (cell_by_feature >= feature_threshold)\n",
    "    print(f'{cell_type}: filtered {np.sum(filtered_features)}')\n",
    "    output = pd.DataFrame(feature[filtered_features])\n",
    "    output.to_csv(\n",
    "        os.path.join('hemato_data', f'imputed_data_raw_{cell_type.replace(\" \", \"_\").replace(\"/\", \"_\")}.txt'),\n",
    "        header=None,\n",
    "        index=None,\n",
    "        sep='\\t'\n",
    "    )"
   ]
  },
  {
   "cell_type": "code",
   "execution_count": 44,
   "metadata": {},
   "outputs": [
    {
     "data": {
      "text/html": [
       "<div>\n",
       "<style scoped>\n",
       "    .dataframe tbody tr th:only-of-type {\n",
       "        vertical-align: middle;\n",
       "    }\n",
       "\n",
       "    .dataframe tbody tr th {\n",
       "        vertical-align: top;\n",
       "    }\n",
       "\n",
       "    .dataframe thead th {\n",
       "        text-align: right;\n",
       "    }\n",
       "</style>\n",
       "<table border=\"1\" class=\"dataframe\">\n",
       "  <thead>\n",
       "    <tr style=\"text-align: right;\">\n",
       "      <th></th>\n",
       "      <th>0</th>\n",
       "    </tr>\n",
       "  </thead>\n",
       "  <tbody>\n",
       "    <tr>\n",
       "      <th>0</th>\n",
       "      <td>Peak_69</td>\n",
       "    </tr>\n",
       "    <tr>\n",
       "      <th>1</th>\n",
       "      <td>Peak_151</td>\n",
       "    </tr>\n",
       "    <tr>\n",
       "      <th>2</th>\n",
       "      <td>Peak_332</td>\n",
       "    </tr>\n",
       "    <tr>\n",
       "      <th>3</th>\n",
       "      <td>Peak_351</td>\n",
       "    </tr>\n",
       "    <tr>\n",
       "      <th>4</th>\n",
       "      <td>Peak_459</td>\n",
       "    </tr>\n",
       "    <tr>\n",
       "      <th>...</th>\n",
       "      <td>...</td>\n",
       "    </tr>\n",
       "    <tr>\n",
       "      <th>30779</th>\n",
       "      <td>Peak_179408</td>\n",
       "    </tr>\n",
       "    <tr>\n",
       "      <th>30780</th>\n",
       "      <td>Peak_101499</td>\n",
       "    </tr>\n",
       "    <tr>\n",
       "      <th>30781</th>\n",
       "      <td>Peak_205388</td>\n",
       "    </tr>\n",
       "    <tr>\n",
       "      <th>30782</th>\n",
       "      <td>Peak_145200</td>\n",
       "    </tr>\n",
       "    <tr>\n",
       "      <th>30783</th>\n",
       "      <td>Peak_365743</td>\n",
       "    </tr>\n",
       "  </tbody>\n",
       "</table>\n",
       "<p>30784 rows × 1 columns</p>\n",
       "</div>"
      ],
      "text/plain": [
       "                 0\n",
       "0          Peak_69\n",
       "1         Peak_151\n",
       "2         Peak_332\n",
       "3         Peak_351\n",
       "4         Peak_459\n",
       "...            ...\n",
       "30779  Peak_179408\n",
       "30780  Peak_101499\n",
       "30781  Peak_205388\n",
       "30782  Peak_145200\n",
       "30783  Peak_365743\n",
       "\n",
       "[30784 rows x 1 columns]"
      ]
     },
     "execution_count": 44,
     "metadata": {},
     "output_type": "execute_result"
    }
   ],
   "source": [
    "output"
   ]
  },
  {
   "cell_type": "code",
   "execution_count": null,
   "metadata": {},
   "outputs": [],
   "source": []
  }
 ],
 "metadata": {
  "kernelspec": {
   "display_name": "bioinfo",
   "language": "python",
   "name": "bioinfo"
  },
  "language_info": {
   "codemirror_mode": {
    "name": "ipython",
    "version": 3
   },
   "file_extension": ".py",
   "mimetype": "text/x-python",
   "name": "python",
   "nbconvert_exporter": "python",
   "pygments_lexer": "ipython3",
   "version": "3.7.10"
  }
 },
 "nbformat": 4,
 "nbformat_minor": 4
}
